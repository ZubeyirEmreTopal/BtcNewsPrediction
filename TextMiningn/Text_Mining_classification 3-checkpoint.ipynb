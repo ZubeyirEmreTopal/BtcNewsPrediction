{
 "cells": [
  {
   "cell_type": "code",
   "execution_count": 1,
   "id": "f265ebc5",
   "metadata": {},
   "outputs": [],
   "source": [
    "import pandas as pd\n",
    "import numpy as np"
   ]
  },
  {
   "cell_type": "code",
   "execution_count": 2,
   "id": "442eb8f3",
   "metadata": {},
   "outputs": [],
   "source": [
    "tarihler=pd.read_csv(\"data_date.txt\")\n",
    "etiketler=pd.read_csv(\"data_etiket.txt\")\n",
    "haberler=pd.read_csv(\"data_haber.txt\",sep=\"\\n\")"
   ]
  },
  {
   "cell_type": "code",
   "execution_count": 3,
   "id": "668156e4",
   "metadata": {},
   "outputs": [],
   "source": [
    "veriler=pd.concat([tarihler,haberler,etiketler],axis=1)"
   ]
  },
  {
   "cell_type": "code",
   "execution_count": 4,
   "id": "49497cbb",
   "metadata": {},
   "outputs": [],
   "source": [
    "import re\n",
    "import nltk\n",
    "import string\n",
    "from nltk.corpus import stopwords\n",
    "from nltk.tokenize import word_tokenize\n",
    "from typing import List\n",
    "from jpype import JClass, JString, getDefaultJVMPath, shutdownJVM, startJVM, java\n",
    "import jpype\n",
    "from nltk.stem.porter import PorterStemmer\n",
    "\n",
    "\n",
    "class Binary:\n",
    "    def __init__(self):\n",
    "        ZEMBEREK_PATH = 'zemberek-full_old.jar'\n",
    "        startJVM(getDefaultJVMPath(), '-ea', '-Djava.class.path=%s' % (ZEMBEREK_PATH))\n",
    "        TurkishMorphology = JClass('zemberek.morphology.TurkishMorphology')\n",
    "        self.morphology = TurkishMorphology.createWithDefaults()\n",
    "        nltk.download('stopwords')\n",
    "        nltk.download('punkt')\n",
    "    def kelime_temizlik(self,metin):\n",
    "        yeniMetin=''\n",
    "        for i in metin:\n",
    "            if i not in string.punctuation:\n",
    "                yeniMetin += i\n",
    "        yorum=yeniMetin\n",
    "        yorum=yorum.replace(\"0\",\"\").replace(\"1\",\"\").replace(\"2\",\"\").replace(\"3\",\"\").replace(\"4\",\"\").replace(\"5\",\"\").replace(\"6\",\"\").replace(\"7\",\"\").replace(\"8\",\"\").replace(\"9\",\"\")\n",
    "        yorum=yorum.lower()\n",
    "        yorum=yorum.split()\n",
    "        ps=PorterStemmer()\n",
    "        yorum=[ps.stem(kelime) for kelime in yorum if not kelime in set(stopwords.words('turkish'))]\n",
    "        yorum= ' '.join(yorum)\n",
    "        token = word_tokenize(yorum)\n",
    "        return token\n",
    "\n",
    "    def kok_temizlik(self,metin):\n",
    "        token=self.kelime_temizlik(metin)\n",
    "        lemma_word_top=''\n",
    "        for i in range(len(token)):\n",
    "            lemma_word = str(self.morphology.analyzeAndDisambiguate(str(token[i])).bestAnalysis()[0].getLemmas()[0])\n",
    "            lemma_word_top=f'{lemma_word_top} {lemma_word}'\n",
    "        file = open(\"ozel_kelimeler.txt\",\"r\",encoding=\"utf-8\")\n",
    "        kelimeler=file.read().split(\"\\n\")\n",
    "        binary=[]\n",
    "        for i in range(len(kelimeler)):\n",
    "            #if metin.count(kelimeler[i])>1:\n",
    "            #    print(kelimeler[i])\n",
    "            binary.append(metin.count(kelimeler[i]))\n",
    "        return binary\n"
   ]
  },
  {
   "cell_type": "code",
   "execution_count": 5,
   "id": "b601648d",
   "metadata": {},
   "outputs": [
    {
     "name": "stderr",
     "output_type": "stream",
     "text": [
      "[nltk_data] Downloading package stopwords to\n",
      "[nltk_data]     C:\\Users\\zetze\\AppData\\Roaming\\nltk_data...\n",
      "[nltk_data]   Package stopwords is already up-to-date!\n",
      "[nltk_data] Downloading package punkt to\n",
      "[nltk_data]     C:\\Users\\zetze\\AppData\\Roaming\\nltk_data...\n",
      "[nltk_data]   Package punkt is already up-to-date!\n"
     ]
    }
   ],
   "source": [
    "bn=Binary()\n",
    "X=[]\n",
    "for i in range (len(veriler)):\n",
    "    X.append(bn.kok_temizlik(veriler.HABER[i]))"
   ]
  },
  {
   "cell_type": "code",
   "execution_count": 6,
   "id": "ab2e03d4",
   "metadata": {},
   "outputs": [
    {
     "data": {
      "text/plain": [
       "0        artar\n",
       "1        artar\n",
       "2       azalir\n",
       "3        artar\n",
       "4       azalir\n",
       "         ...  \n",
       "1202    azalir\n",
       "1203    azalir\n",
       "1204    azalir\n",
       "1205     artar\n",
       "1206     artar\n",
       "Name: DURUM, Length: 1207, dtype: object"
      ]
     },
     "execution_count": 6,
     "metadata": {},
     "output_type": "execute_result"
    }
   ],
   "source": [
    "y=etiketler.DURUM\n",
    "y"
   ]
  },
  {
   "cell_type": "code",
   "execution_count": 7,
   "id": "6feedd5a",
   "metadata": {},
   "outputs": [],
   "source": [
    "for i in range(len(y)):\n",
    "    if y[i]=='artar':\n",
    "        y[i]=1\n",
    "    else:\n",
    "        y[i]=0"
   ]
  },
  {
   "cell_type": "code",
   "execution_count": 8,
   "id": "9f7d4631",
   "metadata": {},
   "outputs": [],
   "source": [
    "X = np.asarray(X).astype(np.float32)\n",
    "y = np.asarray(y).astype(np.float32)"
   ]
  },
  {
   "cell_type": "code",
   "execution_count": 11,
   "id": "8907badb",
   "metadata": {},
   "outputs": [],
   "source": [
    "import random\n",
    "accs=[]\n",
    "tut=[]\n",
    "models=[]\n",
    "for i in range(1000):\n",
    "    a=random.randint(0,100000)\n",
    "    from sklearn.ensemble import RandomForestClassifier\n",
    "    from sklearn.model_selection import train_test_split\n",
    "    X_train,X_test,y_train,y_test=train_test_split(X,y,test_size=0.20,random_state=a)\n",
    "    rfc=RandomForestClassifier(n_estimators=10,criterion='entropy')\n",
    "    rfc.fit(X_train,y_train)\n",
    "    pred_randforest=rfc.predict(X_test)\n",
    "    from sklearn.metrics import confusion_matrix\n",
    "    cm=confusion_matrix(y_test,pred_randforest)\n",
    "    from sklearn.metrics import confusion_matrix,accuracy_score\n",
    "    accuracy=accuracy_score(y_test,pred_randforest)\n",
    "    accs.append(accuracy)\n",
    "    tut.append(a)\n",
    "    models.append(rfc)"
   ]
  },
  {
   "cell_type": "code",
   "execution_count": 91,
   "id": "6feb1df5",
   "metadata": {},
   "outputs": [
    {
     "data": {
      "text/plain": [
       "0.6322314049586777"
      ]
     },
     "execution_count": 91,
     "metadata": {},
     "output_type": "execute_result"
    }
   ],
   "source": [
    "max(accs)"
   ]
  },
  {
   "cell_type": "code",
   "execution_count": 92,
   "id": "e00110f0",
   "metadata": {},
   "outputs": [
    {
     "name": "stdout",
     "output_type": "stream",
     "text": [
      "4880\n"
     ]
    }
   ],
   "source": [
    "for i in range(len(accs)):\n",
    "    if accs[i]==max(accs):\n",
    "        print(i)"
   ]
  },
  {
   "cell_type": "code",
   "execution_count": 93,
   "id": "b3da7fe4",
   "metadata": {},
   "outputs": [
    {
     "data": {
      "text/plain": [
       "76916"
      ]
     },
     "execution_count": 93,
     "metadata": {},
     "output_type": "execute_result"
    }
   ],
   "source": [
    "tut[4880]"
   ]
  },
  {
   "cell_type": "code",
   "execution_count": 94,
   "id": "b0573cad",
   "metadata": {},
   "outputs": [
    {
     "name": "stdout",
     "output_type": "stream",
     "text": [
      "random forest:\n",
      "0.6322314049586777\n"
     ]
    }
   ],
   "source": [
    "#OPTIMAL TRAIN-TEST AYRIMLI EĞİTİM\n",
    "from sklearn.ensemble import RandomForestClassifier\n",
    "from sklearn.model_selection import train_test_split\n",
    "X_train,X_test,y_train,y_test=train_test_split(X,y,test_size=0.20,random_state=76916)\n",
    "rfc=models[4880]\n",
    "pred_randforest=models[4880].predict(X_test)\n",
    "from sklearn.metrics import confusion_matrix\n",
    "print(\"random forest:\")\n",
    "cm=confusion_matrix(y_test,pred_randforest)\n",
    "from sklearn.metrics import confusion_matrix,accuracy_score\n",
    "accuracy=accuracy_score(y_test,pred_randforest)\n",
    "print(accuracy)"
   ]
  },
  {
   "cell_type": "code",
   "execution_count": 96,
   "id": "aab5fe1c",
   "metadata": {},
   "outputs": [
    {
     "data": {
      "text/plain": [
       "['104_model_63.pkl']"
      ]
     },
     "execution_count": 96,
     "metadata": {},
     "output_type": "execute_result"
    }
   ],
   "source": [
    "import joblib\n",
    "joblib.dump(rfc, \"104_model_63.pkl\")"
   ]
  },
  {
   "cell_type": "code",
   "execution_count": null,
   "id": "233746c9",
   "metadata": {},
   "outputs": [],
   "source": []
  }
 ],
 "metadata": {
  "kernelspec": {
   "display_name": "Python 3 (ipykernel)",
   "language": "python",
   "name": "python3"
  },
  "language_info": {
   "codemirror_mode": {
    "name": "ipython",
    "version": 3
   },
   "file_extension": ".py",
   "mimetype": "text/x-python",
   "name": "python",
   "nbconvert_exporter": "python",
   "pygments_lexer": "ipython3",
   "version": "3.9.7"
  }
 },
 "nbformat": 4,
 "nbformat_minor": 5
}
