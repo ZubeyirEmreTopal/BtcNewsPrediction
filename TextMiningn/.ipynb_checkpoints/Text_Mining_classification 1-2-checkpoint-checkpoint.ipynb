{
 "cells": [
  {
   "cell_type": "code",
   "execution_count": 1,
   "id": "a42e8a29",
   "metadata": {},
   "outputs": [],
   "source": [
    "import pandas as pd\n",
    "import numpy as np"
   ]
  },
  {
   "cell_type": "code",
   "execution_count": 2,
   "id": "e942bba8",
   "metadata": {},
   "outputs": [],
   "source": [
    "tarihler=pd.read_csv(\"data_date.txt\")\n",
    "etiketler=pd.read_csv(\"data_etiket.txt\")\n",
    "haberler=pd.read_csv(\"data_haber.txt\",sep=\"\\n\")"
   ]
  },
  {
   "cell_type": "code",
   "execution_count": 3,
   "id": "f7de206f",
   "metadata": {},
   "outputs": [],
   "source": [
    "veriler=pd.concat([tarihler,haberler,etiketler],axis=1)"
   ]
  },
  {
   "cell_type": "code",
   "execution_count": 4,
   "id": "ea41cd7f",
   "metadata": {
    "scrolled": false
   },
   "outputs": [
    {
     "data": {
      "text/plain": [
       "\"Dünyanın en büyük internet teknoloji şirketlerinden biri olan Mountain View Google, kripto para birimleri üzerindeki duruşunu tersine çevirerek, 2018’in başlarında yürürlüğe giren kriptoyla ilgili reklamlara ilişkin yasağını kaldırıyor.2018 yılının mart ayında, arama motoru motor gücü Google, Facebook’un, Twitter’ın ve diğerlerinin Facebook, Twitter ve diğerlerinin başında, ICO’lar, cüzdanlar ve hatta alım satım tavsiyeleri de dahil olmak üzere, kripto para ile ilgili reklamcılıkla ilgili yaygın bir yasağın yayınlanmasını izledi. O zamandan beri, kripto para piyasası, yeni yatırımcılarda cazip görünmemesi nedeniyle, sert fiyat dalgalanmaları ve sürekli bir düşüş yaşadı.Ancak, Finansal ürün ve hizmet politikasında yapılan yeni bir güncelleme ile platform, Amerika Birleşik Devletleri ve Japonya’da reklam yayınlamaya yönelik kripto para değişimine izin vermeye başlayacak. Diğer ülkeler ise bu tarihe dahil değil. Google, reklam verenlerin, reklamlarının yayınlanacağı ülke için onaylanması gerektiğini ve Google’dan sertifika almaya hak kazanan reklam verenlerin, politikanın yürürlüğe gireceği Ekim ayında başvurabileceğini söylüyor.Yeni güncellenmiş politikadan kayda değer bir şekilde eksik olan, cüzdanlar, ticaret danışmanlığı veya ICO’lar dahil olmak üzere diğer kripto varlıklara referans. Google aksini söylemediği sürece, bu ürünler Mart’tan önceki politika güncellemesi kapsamında yasaklanmış olacak.Facebook ve diğer platformlarında, kripto para ile ilgili reklamları yasaklayan Google, aynı zamanda Facebook’un kripto para ile ilgili reklamsız reklamlarda da liderliği üstlendi.Haziran ayında Facebook, bazı kripto para birimi ile ilgili reklamların yayınlanmasına izin veren reklamcılık politikalarında bir değişiklik yaptığını duyurmuştu. O zamanlar, Reddit’teki keskin gözlü kullanıcılar, Google’da AdWords platformu üzerinden yayınlanan Coinbase reklamlarını buldu. Ancak, iki şirket de reklamların yasaklanmasıyla ilgili resmi bir açıklamada bulunmadı.İlk günlerinde şirket, kripto para birimleri gibi basit bir arama motoru olarak gizlenmiş olsa da, ortaya çıkan yıkıcı bir teknolojiydi. Düzgün bir pozlama olmadan, Google bugün olduğu gibi yaygın bir şekilde benimsenmeyebilir.Google bununla birlikte, yeni varlık sınıfını engellemek için elinden gelen her şeyi yapıyor gibi görünüyor. Kripto ile ilgili reklamlara ilişkin reklam yasağının yanı sıra, kripto para birimleri için benimsenen Google Chrome uzantılarını ve Google Play Store’dan kripto para kazandıran madencilik uygulamalarını da yasakladı.Play Store uygulamalarındaki yasak, kripto uygulama geliştiricileri arasında bir karışıklık yarattı. Bu ayın başlarında, popüler kripto cüzdan uygulamaları CoPay, BitPay ve Bitcoin.com’un Bitcoin Cüzdan’ı, Google Play Store’dan uyarı yapılmadan kaldırılmıştı.Google, Kripto Para Reklamları Yasağını Kaldırıyor isimli makale ilk olarak CoinAdam sitesinde yayınlanmıştır.Kripto para dünyasına yapacağı etki merakla beklenen Bakkt şirketinden birtakım haberler gelmeye devam ediyor. Son olarak Bakkt’ın esas sahibi şirket olan ICE’den Bakkt ile ilgili önemli açıklamalar geldi.ICE, yaptığı açıklamada Bakkt’ın tamamen regüle edilmiş bir ekosistem olacağını belirtirken, bu ekosistemin de ana amacının kripto para sektörüne girmek ve bu deneyimi yaşamak isteyen kurumsal yatırımcılara yardım etmek olduğu belirtildi.Platformun, bu amaçla kurumsal yatırımcılara Bitcoin vadeli işlemlerini en az üç farklı para biriminde sunmayı hedeflediği belirtilirken, bu konu ile ilgili yapılan çalışmaların artık son raddeye geldiği belirtildi. Buna göre, Bakkt platformda Amerikan doları, Euro ve İngiliz Sterlini, Bitcoin vadeli işlemlerinde kullanılabilecek.Bu vadeli işlemlerin fiziksel olarak da sunulacağı belirtilirken, Bakkt’tan yapılan açıklamada şu ifadeler kullanıldı:Bakalım merakla beklenen iki şeyden birisi olan (diğeri Bitcoin ETF’si) Bakkt, gerçekten de kripto para piyasasına olumlu etki yapabilecek mi?Bakkt Platformu ile İlgili Yeni Bilgiler Var: Üç Farklı Para Biriminde Bitcoin Vadelileri Geliyor! isimli makale Nihat Emre KOCAASLAN tarafından hazırlanmış ve koinbulteni.comda yayınlanmıştır.EOS kripto para biriminin arkasındaki ana şirket olarak bilinen Block.one’ın başı şu sıralar biraz dertte. Hong Kong tabanlı kripto para şirketi Block.one, firmanın açıldığı ilk günlerde bünyesine kattığı dört yöneticinin istifası ile karşı karşıya kaldı. İstifa eden dört yönetici ise şu an hazırlık sürecinde olan StrongBlock isimli yeni bir blockchain projesi kurmayı planlıyor.David Moss, Thomas Cox, Brian Ambramson ve Corey J. Lederer sırasıyla firmanın işe aldığı ikinci, üçüncü, dördüncü ve beşinci elemandı. Yani şu an 5 milyar doların üzerinde piyasa değerine sahip Block.one’ın temel yapı taşlarını oluşturuyorlar diyebiliriz.Block.one protokolü temel olarak Bitcoin ve Ethereum blockchain’lerinin arkasındaki teknolojiye rakip olarak kendi platformunu öne sürmüş ve herkesin bildiği EOS kripto para birimini üretmişti.David Moss şirket bünyesined teknolojik işlemlerden sorumlu kıdemli başkan yardımcısı, Thomas Cox ürün ve üretimden sorumlu başkan yardımcısı, Brian Ambramson alt yapıdan sorumlu başkan yardımcısı, Corey J. Lederer ise teknolojik ürünlerden sorumlu kıdemli müdür görevlerini yürütmekteydi.Yöneticilerin dördü de firmaya geçtiğimiz yıl ilk açıldığı zamanlarda katılmış ve özellikle bahar aylarından sonra EOS üzerine çalışmalar yapmıştı. Ancak LinkedIn (NYSE:LNKD) profillerindeki bilgilere göre Abramson, Lederer ve Cook yaz ayları sırasında EOS’u sessizce terk etmiş. Moss ise verilere göre firmadan Mayıs ayı gibi erken bir tarihte çıkış yapmış.Block.one tarafından konu ile ilgili herhangi bir açıklama ise yapılmadı.EOS’un Arkasındaki Block.one Şirketinde Neler Oluyor? Kıdemli Dört Yönetici İstifa Etti isimli makale Ali Emre KONAKÇI tarafından hazırlanmış ve koinbulteni.comda yayınlanmıştır.Yaklaşık bir hafta önce hacklenen ve tahmini olarak 60 milyonluk zarara uğrayan Japonya‘nın kripto para borsası Zaif, hackleme sonrası Japonya Maliye Bakanı Taro Aso’nun bile radarına takılmış ve hakkında soruşturma başlatılmıştı.Borsadan en az 5,966 adet Bitcoin ve bir miktar da MonaCoin çalınmıştı ancak sorun çalınan kripto para birimlerinin çoğunun borsa müşterilerine ait olması ve borsanın bu miktarı karşılayacak parası olmamasıydı. Firma daha sonra şirket payının bir kısmını satarak müşterilerin zararını karşılayacağını açıklasa da, görünüşe göre yaptırımlardan kurtulamadı.Bugün yapılan bir duyuruya göre, Japonya’nın Maliye Bakanlığı, Zaif kripto para borsasının işletmecisi Tech Bureau firmasına ”yönetimsel cezalar” uygulama kararı aldı ki bunların içerisinde ”iş geliştirme emri” de mevcut.Firma yeni yaptırımlar gereğince söz konusu hacklenme olayına yol açan sorunlar ve sebepler hakkında araştırma yapıp kesin olarak bunları belirleyecek ve başka bir hacklenme olayının yaşanmaması için kesin önlemler alacak. Firmaya bunların yanı sıra hackleme olayının arkasındaki saldırganları bunla görevi de verildi.Zaif borsası müşterilerin zararını tazmin edeceğini ifade etse de, gönderilen yaptırımlar listesinde bu konuya da vurgu bulunmakta.Alınan iş geliştirme emri Tech Bureau firmasına üç aylık süre içerisinde verilen ikinci yaptırım olma özelliği ile şirketi ciddi bir tehlikeye sokuyor. Firmanın ilk iş geliştirme emri FSA tarafından Haziran ayında verilmişti.Japonya Finansal Denetçisi, Hacklenen Kripto Para Borsasının ”Cezasını Kesti” isimli makale Ali Emre KONAKÇI tarafından hazırlanmış ve koinbulteni.comda yayınlanmıştır.Bitcoin özellikle geride bıraktığımız hafta boyunca çok sağlam bir ralli ile yükselip, alt koinleri de beraberinde aynı seviyelere taşıdığından beri, piyasanın kripto paralara karşı olan tutumu da ‘nedense’ değişim göstermeye başladı.Forbes‘in topluluk sözcülerinden ve BitcoinIRA‘nın kurucu ortağı olan Chris Kline, Bitcoin fiyatının 2019 yılına kadar 40.000 doları aşması için elde etmesi gereken dört faktörü açıkladı.İlgili haber: Milyarder Marc Lasry: Bitcoin, 40 Bin Dolar OlacakKline ilk olarak daha önce milyarder yatırımcı Marc Lasry’nin açıklamasına katıldığını ifade etti ve şunları belirtti:Kline son olarak ise ilginç ama dikkat çekici bir konuya, Mastercard’ın aldığı ve ”blockchain tabanlı varlıklar ile itibari para hesapları arasında” bir köprü kurarak işlemleri hızlandırmayı amaçlayan patente vurgu yaptı.Chris Kline yukarıdaki faktörlerin bir araya gelip, beklenen nihai boğaları sahaya indireceğini üstüne basa basa vurgulamakta ancak bunu tabii ki zaman gösterecek.Bitcoin’in Fiyatını 2019 Sonuna Kadar 40.000 Dolar Yapabilecek 4 Faktör – Chris Kline Açıklıyor! isimli makale Ali Emre KONAKÇI tarafından hazırlanmış ve koinbulteni.comda yayınlanmıştır.nChain isimli firmada baş araştırmacı olarak görev yapan ve kendisini çeşitli ortamlarda birkaç kez Satoshi Nakomoto olarak ilan eden Craig Wright, Afrika’da katıldığı bir panelde Bitcoin Cash’in kullanım alanları ile ilgili konuştu.Craig Wright, yaptığı açıklamada Blockchain teknolojisinin Afrika ülkeleri için oldukça önemli olduğunu belirtirken, Bitcoin Cash’in de bu devrimde önemli bir rol oynayacağını belirtti. Wright, şöyle konuştu:Satoshi Olduğunu İddia Eden Craig Wright, Bitcoin Cash ile İlgili Konuştu isimli makale Nihat Emre KOCAASLAN tarafından hazırlanmış ve koinbulteni.comda yayınlanmıştır.Sidney Üniversitesi tarafından üretilen ve Amazon (NASDAQ:AMZN) Web Services üzerinde çalışan Red Belly isimli blockchain platformu, ortalama 3 saniyelik gecikme ile saniyede 30.000 işlem sınırına ulaştı ve başarılması zor bir olaya imza attı.Avustralya Sidney Üniversitesi araştırmacıları, Bitcoin ve Ethereum gibi halka açık blockchain ağları ile R3′ün kullandığı türden konsorsiyum blockchain ağlarının bir hybrid versiyonunu icat etti ve görünüşe göre bu model oldukça başarılı.Özel olarak Üniversitenin Bilişim Teknolojileri Departmanı tarafından geliştirilen Blockchain platformu, üreticilerinin iddiasına göre Bitcoin’in sahip olduğu blockchain ağlarına kıyasla çok daha hızlı ölçeklenebilmekte.Araştırmanın lideri Dr. Vincent Gramoli, konu hakkında şu açıklamada bulundu:İlgili haber: ‘Saniyede 500 İşlem’ Vitalik ZK-Snark’ın Ethereum’un En Büyük Derdini Çözebileceğini DüşünüyorAraştırmanın lideri Gramoli’ye göre Red Belly Blockchain platformu şu an ”halka açık ve konsorsiyum modellerinin arasında bir teknolojiye” sahip. Söz konusu saniyede 30.000 işlem hacmi kripto para birimleri için kullanılmaya başlanırsa, bu gerçekten ölçeklenme sorununu tamamen kökünden çözebilir.Sidney Üniversitesinin Ürettiği Blockchain, Saniyede 30.000 İşleme Ulaştı! isimli makale Ali Emre KONAKÇI tarafından hazırlanmış ve koinbulteni.comda yayınlanmıştır.Letonya’nın başkenti Riga’da düzenlenen Bitcoin konferansında, kripto para camiasının önde gelen isimlerinden birisi olan Whale Panda kendi kullandığı trading stratejileri ile ilgili önemli bilgiler verdi. Panelde yazılım ve geliştirme mühendisi Florian Maier ve Tone Vays de yer alırken, Whale Panda yaptığı açıklamada trading stratejilerine ilişkin şunları söyledi:Whale Panda, Trade Yaparken Kullandığı Stratejileri Açıkladı isimli makale Nihat Emre KOCAASLAN tarafından hazırlanmış ve koinbulteni.comda yayınlanmıştır.Yakın zamanda, popüler kripto para birimi programı CrpytoTrader‘ın sunucusu Ran Neu-Ner, kripto para sektörünün neden Bitcoin ETF‘sine ihtiyacı olduğu ve olası bir ETF’nin ne zaman geleceği konusunda endüstri uzmanları ile röportaj gerçekleştirdi. NeuNer’in görüşlerini aldığı iki kişi ise, O Group CEO’su Maja Vujinovic ve Asya menşeli OSL firması CEO’su Dave Chapman oldu.Vujinovic popüler olmayan bir cevap ile sohbete başlayıp, kripto para dünyasının likidite sağlamak için illa ki ETF’ye ihtiyaç duymadığını vurguladı. Kendisi bunun yanı sıra ETF’nin kurumsal yatırımcıları kripto para alanına çekecek tek çıkar yol olmadığını da ifade etti. Vujinovic şimdiden bile birçok bankanın ve kurumsal finans platformunun yavaş yavaş kripto para birimlerine geçiş yaptığını, kripto para kökenli elemanlar işe aldığını belirtti.Kendisinin yıl sonuna kadar olası bir ETF onayı görür müyüz sorusuna cevabı ise koca bir hayır oldu. Vujinovic ETF kararının bu yıl gelmemesinin temel sebebini bu kararın tek bir tarafa ait olmamasına bağladı ve ekledi: ”İki Endüstri Uzmanı: Bitcoin ETF’si Yıl Sonuna Kadar Gelmeyecek isimli makale Ali Emre KONAKÇI tarafından hazırlanmış ve koinbulteni.comda yayınlanmıştır.Çinli Bitcoin madencilik şirketi Ebang, yaptığı açıklama ile son model üretim madencilik cihazlarını duyurdu. Ebit Miner E 11 ismi ile çıkan cihazlar, oldukça başarılı bulunuyor. Çıkan haberlere göre, cihazın 30 ile 44 trilyon arasında bir TH/s gücüne sahip olduğu belirtiliyor.Gürcistan’ın Tiflis kentinde gerçekleştirilen Dünya Dijital Madencilik etkinliğinde konuyla ilgili bilgiler veren şirket, bu yeni ürünün Bitmain’in ürettiği cihazlardan çok daha kaliteli olduğunu belirtti.Madencilik sektörüne Bitmain’in önemli rakiplerinden birisi olarak gösterilmeye başlanan Ebang’in bu son hamlesi, madenciler açısından da oldukça sevindirici bir haber olma özelliğini taşıyor.Madenciler, artmaya başlamış tekelleşmeden oldukça rahatsızdı ve Ebang’in sektöre giriş yapıp teknik manada Bitmain’den daha kaliteli cihazlar üretmesi, şu anda Bitmain hariç hemen herkesi memnun etmiş görünüyor. Cihazların şu anda satışı başlamadı ancak çıkan haberlere göre, sektörün en kaliteli cihazlarından birisi olacak olan bu yeni cihazlar, yakın dönemde raflardaki yerini alacak.Hong Kong ulusal borsalarında Bitmain ve Canaan ile birlikte işlem gören üçüncü madencilik şirketi olan Ebang, ASIC madencilik sektörünün yüzde 11’ini domine etmiş durumda. Şu anda, ASIC cihazlar ve madencilik sektöründe yaşanan son gelişmelerin oldukça ilgi çekici olduğunu belirten otoriteler, yakın dönemde artmış olan rekabetin, sektörün ve bireysel madencilerin lehine olduğunu ve artmış alternatiflerin önemli olduğunu ifade ediyor. Canaan ve Bitmain de, yeni madencilik cihazları için yoğun bir çalışma sarf ediyor.Madencilik: Bitmain’in Rakibi Ebang, Yeni Cihazını Duyurdu isimli makale Nihat Emre KOCAASLAN tarafından hazırlanmış ve koinbulteni.comda yayınlanmıştır.Investing.com – Uluslararası Ödemeler Bankası (BIS) hükümetin düzenleme görüşmelerinin dijital para fiyatları üzerinde negatif etkiye sahip olacağını söylerken, kripto paralar Salı günü düşüş yaşadı.Bitcoin %3,05 düşüşle 6.425,60 dolara geriledi.Kripto paralar genel olarak düşük iken, toplam piyasa sermayelendirmesindeki dijital döviz kapasitesi, Pazar günü 228 milyar dolara kıyasla, bu haberi yazarken, 219 milyar dolar seviyesinde.ETH/USD, Ether, %11,83 düşüşle 210,03 dolara geriledi. XRP, %16,29 değer kaybederek 0,45702 dolar oldu ve Litecoin %5,55 kayıp ile 55,282 dolardan işlem gördü.BIS’ten araştırmacılar bir raporda, dijital piyasayı düzgünce düzenlemenin tek yolunun uluslararası koordinasyon olduğu üzerine tartıştı.Bankanın iki ekonomistinin yazdığı çalışma, yapay para düzenlemesinin çalışması için, mevcut para aklama standartlarına benzer sınır ötesi bir koordinasyona ihtiyaç olduğunu belirtiyor.Yazarlar ayrıca, hükümet düzenlemelerinin kripto paralar üzerinde etkisi olduğunu ve yapay paralara menkul kıymet olarak davranmaya veya genel yasaklara odaklandığında negatif etkiye meyilli olduğunu ifade etti.Araştırmacılar not etti, “gelişmeler, kripto paraların menkul kıymet olarak görülmesinin negatif getirilere neden olabileceğini de ortaya koyarak, muhtemelen, kripto paraların daha zorlayıcı bir biçimde düzenleneceğine dair beklentileri oluşturuyor. Aksine, spesifik, güvenli olmayan yasal çerçevenin tanıtımı, pozitif gelirler yaratıyor.”Diğer gelişmelerde, perakende devi Walmart (NYSE:WMT), tüm yapraklı yeşil tedarikçilerin gıda verilerini Eylül 2019'a kadar bir blok zincirine koymasını gerektiriyor. Bu hareket, şirketin E. coli ve diğer tür salgınları önlemesine yardımcı olacak.Bitcoin gibi dijital para birimlerinin arkasında bulunan dağıtılmış kayıt teknolojisinin kullanılması, kirlenmenin yerini tespit etmeye yardımcı olacak ve hangi mağazaların tedarik edildiğini gösterecek.Mt. Gox borsasının iflas etmesinden sonra borçluların kripto paralarını ödemek adına atanan kayyum Nobuaki Kobayashi, alacaklıların çıkarlarını korumak için aldığı önlemleri açıklayan bir rapor yayınladı. Raporun en ilginç kısmı ise Kobayashi’nin çok büyük miktarlarda kripto para satma nedenini açıkladığı kısım oldu.Yayınlanan açıklamaya göre, yapılan satışlar ve alınan diğer önlemler, iflas sürecinin bir gerekliliğiydi ve 2018 yılının Şubat ayında yapılan inceleme raporuna dayanarak yapıldı.Sumitomo Mitsui Bankacılık Derneği Belgede yer alan bilgilere göre Kobayashi belirli bir miktar Bitcoin ve Bitcoin Cash’i, dava açmış olan alacaklıların ”çıkarlarını korumak için” satmış. Satış 2018 yılının Mart ayında ”Geri Ödeme İşlemleri” kapsamında yapılmış ve amaç belirli bir miktar nakit elde etmek olarak belirlenmiş. Kobayashi’nin sattığı yüklü miktarda BTC’ler Bitcoin fiyatında o dönem yaşanan düşüşün sebebi olarak görülmekteydi.Kobayashi tam olarak 24.658 Bitcoin ve 25.331 Bitcoin Cash satıp, o zamanın parasına göre toplamda 25.9 milyar yen (230.1 milyon dolar) elde etmişti.Parayı hesabında tutan Tröst şirketi ise, Kobayashi ve büyük bir Japon bankası olan Sumitomo Mitsui arasında kuruldu. Tröst firması kurulduğu anın kripto para fiyatlarına göre 15.8 milyar yenlik bir miktara sahipti.Evrakta, yapılan toplu satışın sonucu olarak, tröst platformunun şimdiden ”BTC alacaklarının çıkarlarını koruyacak kadar paraya” sahip olunduğu vurgulanmakta. Yani teknik olarak Kobayashi BTC yükselişe geçtiğinde elindeki kripto para birimlerini çıkartıp, değişmeyen alacaklı ödeme miktarının daha fazlasını kapatmak istemiş. Yine de, Kobayashi’nin kripto para piyasasına verdiği zarar bir hayli büyük.Mt. Gox Kayyumu Yaptığı Toplu Satışların Sebebini Açıkladı isimli makale Ali Emre KONAKÇI tarafından hazırlanmış ve koinbulteni.comda yayınlanmıştır.Piyasalarda yapılan manipülasyon bir çok yatırımcı tarafından kripto para dünyasının en büyük sıkıntısı olarak görülmekte. Zaten SEC gibi kurumların Bitcoin ETF‘si gibi büyük ürünlere izin vermemesinin arkasında yatan temel sebep de piyasa manipülasyonu. Pump and Dump olarak geçen olay sayesinde, hacmi düşük kripto para birimlerinin – bazen de büyük gruplarla top 10 arasındaki kripto para birimlerinin – birim fiyatı çok kolay bir şekilde arttırılabilmekte. Bu tehlikeye rağmen yatırımcılar yine de piyasaya yatırım yapmaya devam ediyor.CZ Manipülasyon Hakkında Konuştu Binance CEO’su Changpeng Zhao’ya göre, şu an geleneksel piyasalarda, kripto para piyasalarda olduğundan çok daha fazla manipülasyon dönmekte. CZ’nin 24 Eylül tarihinde Twitter üzerinden yaptığı açıklamaya göre, bir çok finansal araç sadece bir piyasada işlem görmekte. CZ bunun yanı sıra medya ve içeriden kişilerle bağlantısı olan büyük piyasa yapıcılara da dikkat çekti ve kripto para birimlerinin genellikle birden çok piyasada işlem gördüğünü vurguladı.Kripto para birimleri çoğu geleneksel finans aracının aksine birden fazla piyasada işlem gördüğü için, bunları manipüle etmek gerçekten de bir kaçına kıyasla daha zor.Binance CEO’su: Geleneksel Piyasalarda Kripto’ya Kıyasla Daha Fazla Manipülasyon Var! isimli makale Ali Emre KONAKÇI tarafından hazırlanmış ve koinbulteni.comda yayınlanmıştır.Chainalysis isimli araştırma firmasının yaptığı çalışmaya göre, Bitcoin ve kripto para yatırımcıları zorlu geçen yaz ayları boyunca genelde pozisyonlarını korudu ve dramatik bir değişikliğe gitmedi.Likiditesi yüksek yani ödemeler ve spekülasyonlarda kullanılan koinlere ek olarak, daha az likiditeli olan ve yatırım amaçlı kullanılan koinler ile ilgili yapılan çalışmada enteresan sonuçlar ortaya çıktı. Buna göre, toplam dolaşımda yer alan Bitcoin miktarı ile ilgili yapılan çalışmada toplam bitcoinlerin sadece yüzde 22’sinin bu dönemde el değiştirdiği sonucuna varıldı.Firma, bu durumu piyasaların artık daha stabil olduğu yönünde yorumlama yolunu tercih ederken, 2017 sonunda sektöre gelen ve her birinin farklı düşüncelere sahip olduğu yatırımcıların, artık tek bir noktada birleşmeye başladığı sonucuna da varıldı.Gerek uzun vadeli yatırımcıların gerekse de spekülatörlerin yaz boyunca pozisyonlarını koruduğu ifade edilirken, şu aşamada piyasaların ciddi bir düzenleme ya da teknolojik gelişme olmadıkça, bu stabiliteyi koruyacağı ve de hatta arttıracağı belirtildi.Bitcoin özelinde de, kullanıcı sayısının arttığı sonucuna varılırken, Bitcoin ve kripto paraların yaşadığı en büyük sorun olarak gösterilen kullanım sorununun yavaş yavaş ortadan kalktığı da ifade edildi.Artık kripto paraların sıradan vatandaşlar için her geçen gün daha da önemli bir hal aldığına vurgu yapılırken, bu durumun gelişmesi ile birlikte, kripto paraların daha fazla işlemde kullanılmasının da önünün açılacağı ifade edildi.Piyasalar, gerçekten de yaz ayı boyunca görece stabil bir duruş sergiledi. Bakalım Bitcoin, yukarıya doğru bir hamle yapabilecek mi?Araştırma: Bitcoin ve Kripto Para Yatırımcıları Yaz Boyunca ‘Hodl’da Kaldı isimli makale Nihat Emre KOCAASLAN tarafından hazırlanmış ve koinbulteni.comda yayınlanmıştır.Bitcoin aradan geçen uzun yıllara rağmen kripto para piyasasının hala en büyük koini durumunda. Bitcoin’in piyasadaki hakimiyet endeksine bir göz attığımızda altkoinlerin bu durumdan nasıl etkilendiğini görebiliyoruz.Bitcoin HakimiyetiPiyasada Bitcoin’den teknolojik anlamda çok üstün, çok daha hızlı bir koin bulmak aslında kimine göre gayet mümkün. Ancak Bitcoin buna rağmen piyasanın en büyüğü olmaya devam ediyor. Bu pek çok farklı sebebe bağlanabilir: Bitcoin’in ilk koin olması, insanların en çok Bitcoin’den haberdar olması gibi.Bitcoin’in piyasadaki bu hakimiyetiyle birlikte yeni bir ölçüt oluştu: Bitcoin Hakimiyet Endeksi. Bu endeks Bitcoin’in toplam değeriyle piyasanın genel piyasa hacmi arasında ilişkiyi açığa çıkarıyor.Bu endeksin genel olarak yüksek olduğunu söylemek pek şaşırtıcı olmasa gerek. Bitcoin’in hakimiyet oranı çoğu zaman yüzde 40 civarında kalmayı başardı. Bu da kabaca Bitcoin’in toplam piyasa hacminin, genel piyasa değerinin yaklaşık yüzde 40’ına denk geldiği anlamına geliyor. Ancak bu oranın bu yıl içerisinde yüzde 50, hatta yüzde 55 gibi seviyelere yükseldiğini gördük.Bitcoin’in hakimiyetindeki bu artış aslında piyasadaki diğer koinlerin pek işine yaramıyor çünkü insanlar yalnızca Bitcoin’e odaklanmaya başlıyorlar.Bu endeksteki artış altkoinlerin likidite konusunda da sorun yaşamalarına yol açıyor. Piyasadaki koinlerin ciddi bir kısmının piyasa hacmi 10 milyon dolar veya daha az. Bitcoin Hakimiyet Endeksi’ndeki artış bu koinlerin likidite sorunu yaşamasına yol açıyor. Endeksin artması demek Bitcoin’e akan paranın artması demek ki bu da diğer koinlerin zor anlar yaşamasına sebep oluyor.Bitcoin’in Piyasadaki Hakimiyeti Diğer Kripto Paraları Olumsuz Etkiliyor Olabilir isimli makale Ömer SAKMAR tarafından hazırlanmış ve koinbulteni.comda yayınlanmıştır.\""
      ]
     },
     "execution_count": 4,
     "metadata": {},
     "output_type": "execute_result"
    }
   ],
   "source": [
    "veriler.HABER[1206]"
   ]
  },
  {
   "cell_type": "code",
   "execution_count": 5,
   "id": "ca8a47ab",
   "metadata": {},
   "outputs": [
    {
     "data": {
      "text/html": [
       "<div>\n",
       "<style scoped>\n",
       "    .dataframe tbody tr th:only-of-type {\n",
       "        vertical-align: middle;\n",
       "    }\n",
       "\n",
       "    .dataframe tbody tr th {\n",
       "        vertical-align: top;\n",
       "    }\n",
       "\n",
       "    .dataframe thead th {\n",
       "        text-align: right;\n",
       "    }\n",
       "</style>\n",
       "<table border=\"1\" class=\"dataframe\">\n",
       "  <thead>\n",
       "    <tr style=\"text-align: right;\">\n",
       "      <th></th>\n",
       "      <th>date</th>\n",
       "      <th>HABER</th>\n",
       "      <th>DURUM</th>\n",
       "    </tr>\n",
       "  </thead>\n",
       "  <tbody>\n",
       "    <tr>\n",
       "      <th>0</th>\n",
       "      <td>20.06.2022</td>\n",
       "      <td>Investing.com - Kripto para piyasalarındaki gü...</td>\n",
       "      <td>artar</td>\n",
       "    </tr>\n",
       "    <tr>\n",
       "      <th>1</th>\n",
       "      <td>18.06.2022</td>\n",
       "      <td>Bitcoin 20.000 doların altına düştüInvesting.c...</td>\n",
       "      <td>artar</td>\n",
       "    </tr>\n",
       "    <tr>\n",
       "      <th>2</th>\n",
       "      <td>17.06.2022</td>\n",
       "      <td>Investing.com - Kripto para piyasalarındaki gü...</td>\n",
       "      <td>azalir</td>\n",
       "    </tr>\n",
       "    <tr>\n",
       "      <th>3</th>\n",
       "      <td>16.06.2022</td>\n",
       "      <td>Investing.com - Kripto para piyasalarındaki gü...</td>\n",
       "      <td>artar</td>\n",
       "    </tr>\n",
       "    <tr>\n",
       "      <th>4</th>\n",
       "      <td>15.06.2022</td>\n",
       "      <td>Investing.com - Kripto para piyasalarındaki gü...</td>\n",
       "      <td>azalir</td>\n",
       "    </tr>\n",
       "    <tr>\n",
       "      <th>...</th>\n",
       "      <td>...</td>\n",
       "      <td>...</td>\n",
       "      <td>...</td>\n",
       "    </tr>\n",
       "    <tr>\n",
       "      <th>1202</th>\n",
       "      <td>30.09.2018</td>\n",
       "      <td>Merkezi olmayan borsaya olan talep yüksektir. ...</td>\n",
       "      <td>azalir</td>\n",
       "    </tr>\n",
       "    <tr>\n",
       "      <th>1203</th>\n",
       "      <td>28.09.2018</td>\n",
       "      <td>Investing.com – Kripto paralar Perşembe günü k...</td>\n",
       "      <td>azalir</td>\n",
       "    </tr>\n",
       "    <tr>\n",
       "      <th>1204</th>\n",
       "      <td>27.09.2018</td>\n",
       "      <td>Investing.com - Litecoin Perşembe günü %10,28 ...</td>\n",
       "      <td>azalir</td>\n",
       "    </tr>\n",
       "    <tr>\n",
       "      <th>1205</th>\n",
       "      <td>26.09.2018</td>\n",
       "      <td>İngiltere menşeli The Knowledge Academy kurulu...</td>\n",
       "      <td>artar</td>\n",
       "    </tr>\n",
       "    <tr>\n",
       "      <th>1206</th>\n",
       "      <td>25.09.2018</td>\n",
       "      <td>Dünyanın en büyük internet teknoloji şirketler...</td>\n",
       "      <td>artar</td>\n",
       "    </tr>\n",
       "  </tbody>\n",
       "</table>\n",
       "<p>1207 rows × 3 columns</p>\n",
       "</div>"
      ],
      "text/plain": [
       "            date                                              HABER   DURUM\n",
       "0     20.06.2022  Investing.com - Kripto para piyasalarındaki gü...   artar\n",
       "1     18.06.2022  Bitcoin 20.000 doların altına düştüInvesting.c...   artar\n",
       "2     17.06.2022  Investing.com - Kripto para piyasalarındaki gü...  azalir\n",
       "3     16.06.2022  Investing.com - Kripto para piyasalarındaki gü...   artar\n",
       "4     15.06.2022  Investing.com - Kripto para piyasalarındaki gü...  azalir\n",
       "...          ...                                                ...     ...\n",
       "1202  30.09.2018  Merkezi olmayan borsaya olan talep yüksektir. ...  azalir\n",
       "1203  28.09.2018  Investing.com – Kripto paralar Perşembe günü k...  azalir\n",
       "1204  27.09.2018  Investing.com - Litecoin Perşembe günü %10,28 ...  azalir\n",
       "1205  26.09.2018  İngiltere menşeli The Knowledge Academy kurulu...   artar\n",
       "1206  25.09.2018  Dünyanın en büyük internet teknoloji şirketler...   artar\n",
       "\n",
       "[1207 rows x 3 columns]"
      ]
     },
     "execution_count": 5,
     "metadata": {},
     "output_type": "execute_result"
    }
   ],
   "source": [
    "veriler"
   ]
  },
  {
   "cell_type": "code",
   "execution_count": 6,
   "id": "23588692",
   "metadata": {},
   "outputs": [],
   "source": [
    "import re\n",
    "import nltk\n",
    "import string\n",
    "from nltk.corpus import stopwords\n",
    "from nltk.tokenize import word_tokenize\n",
    "from typing import List\n",
    "from jpype import JClass, JString, getDefaultJVMPath, shutdownJVM, startJVM, java\n",
    "import jpype"
   ]
  },
  {
   "cell_type": "code",
   "execution_count": 7,
   "id": "d0bd7c17",
   "metadata": {},
   "outputs": [],
   "source": [
    "ZEMBEREK_PATH = 'zemberek-full_old.jar'\n",
    "startJVM(getDefaultJVMPath(), '-ea', '-Djava.class.path=%s' % (ZEMBEREK_PATH))\n",
    "TurkishMorphology = JClass('zemberek.morphology.TurkishMorphology')\n",
    "morphology = TurkishMorphology.createWithDefaults()"
   ]
  },
  {
   "cell_type": "code",
   "execution_count": 8,
   "id": "fac2e56e",
   "metadata": {},
   "outputs": [
    {
     "name": "stderr",
     "output_type": "stream",
     "text": [
      "[nltk_data] Downloading package stopwords to\n",
      "[nltk_data]     C:\\Users\\zetze\\AppData\\Roaming\\nltk_data...\n",
      "[nltk_data]   Package stopwords is already up-to-date!\n",
      "[nltk_data] Downloading package punkt to\n",
      "[nltk_data]     C:\\Users\\zetze\\AppData\\Roaming\\nltk_data...\n",
      "[nltk_data]   Package punkt is already up-to-date!\n"
     ]
    },
    {
     "data": {
      "text/plain": [
       "True"
      ]
     },
     "execution_count": 8,
     "metadata": {},
     "output_type": "execute_result"
    }
   ],
   "source": [
    "nltk.download('stopwords')\n",
    "derlem=[]\n",
    "sayac=0\n",
    "nltk.download('punkt')"
   ]
  },
  {
   "cell_type": "code",
   "execution_count": 9,
   "id": "e909b1b2",
   "metadata": {},
   "outputs": [
    {
     "data": {
      "text/plain": [
       "0       Investing.com - Kripto para piyasalarındaki gü...\n",
       "1       Bitcoin 20.000 doların altına düştüInvesting.c...\n",
       "2       Investing.com - Kripto para piyasalarındaki gü...\n",
       "3       Investing.com - Kripto para piyasalarındaki gü...\n",
       "4       Investing.com - Kripto para piyasalarındaki gü...\n",
       "                              ...                        \n",
       "1202    Merkezi olmayan borsaya olan talep yüksektir. ...\n",
       "1203    Investing.com – Kripto paralar Perşembe günü k...\n",
       "1204    Investing.com - Litecoin Perşembe günü %10,28 ...\n",
       "1205    İngiltere menşeli The Knowledge Academy kurulu...\n",
       "1206    Dünyanın en büyük internet teknoloji şirketler...\n",
       "Name: HABER, Length: 1207, dtype: object"
      ]
     },
     "execution_count": 9,
     "metadata": {},
     "output_type": "execute_result"
    }
   ],
   "source": [
    "haberler=veriler['HABER']\n",
    "haberler"
   ]
  },
  {
   "cell_type": "code",
   "execution_count": 10,
   "id": "57e54d61",
   "metadata": {},
   "outputs": [],
   "source": [
    "for i in range (len(haberler)):\n",
    "    yeniMetin=''\n",
    "    for i in haberler[i]:\n",
    "        if i not in string.punctuation:\n",
    "            yeniMetin += i\n",
    "    yorum=yeniMetin\n",
    "    yorum=yorum.replace(\"0\",\"\").replace(\"1\",\"\").replace(\"2\",\"\").replace(\"3\",\"\").replace(\"4\",\"\").replace(\"5\",\"\").replace(\"6\",\"\").replace(\"7\",\"\").replace(\"8\",\"\").replace(\"9\",\"\")\n",
    "    #büyük küçük harf ayarlanamsı\n",
    "    yorum=yorum.lower()\n",
    "    yorum=yorum.split()\n",
    "    #stop words=etkisiz kelimeler bizim için anlamsız kelimler\n",
    "    #that,and,to gibi duygu ifade etmiyor\n",
    "    #türkçe için yapmak istiyorsak mesela bu kelimelerin olduğu bir txt dosyasını bulmak yeterli\n",
    "\n",
    "    from nltk.stem.porter import PorterStemmer\n",
    "    ps=PorterStemmer()\n",
    "    yorum=[ps.stem(kelime) for kelime in yorum if not kelime in set(stopwords.words('turkish'))]\n",
    "    yorum= ' '.join(yorum)\n",
    "     \n",
    "    token = word_tokenize(yorum)\n",
    "    lemma_word_top=''\n",
    "    for i in range(len(token)):\n",
    "        lemma_word = str(morphology.analyzeAndDisambiguate(str(token[i])).bestAnalysis()[0].getLemmas()[0])\n",
    "        lemma_word_top=f'{lemma_word_top} {lemma_word}'\n",
    "    derlem.append(lemma_word_top)"
   ]
  },
  {
   "cell_type": "code",
   "execution_count": 13,
   "id": "cfe0fe21",
   "metadata": {},
   "outputs": [
    {
     "data": {
      "text/plain": [
       "' dünya büyük internet teknoloji şirket ol mountain view UNK kripto para birim üzeri dur ters çevir UNK in baş yürürlük gir kripto ilgili reklam ilişkin yasak kaldır yıl mart ay ara motor motor güç UNK facebook UNK un twitter UNK ın diğer facebook twitter diğer baş UNK UNK UNK cüzdan hatta alım satım tavsiye dahil ol üzere kripto para ilgili reklam ilgili yaygın bir yasak yayınla izle zaman beri kripto para piyasa yeni yatırım cazip görün UNK sert fiyat dalga sürekli bir düş UNK finans ürün hizmet politika yap yeni bir UNK platform amerika birleşik devlet japonya UNK da reklam yayınla yönelik kripto para değişim izin UNK başla diğer ülke tarih dahil değil UNK reklam ver reklam yayınla ülke onayla gerek google UNK dan sertifika al hak kazan reklam ver politika yürürlük gir ekim ay başvur UNK güncelle politika kayıt değer bir UNK eksik ol cüzdan ticaret danışman UNK UNK UNK dahil ol üzere diğer kripto varlık UNK UNK akis söyle süreç ürün mart UNK tan önce politika güncelle kapsam yasakla UNK diğer platform kripto para ilgili reklam yasakla UNK aynı zaman facebook UNK un kripto para ilgili reklam reklam lider UNK ay facebook kripto para birim ilgili reklam yayınla izin ver reklam politika bir değişik yap duyur zaman reddit UNK tek keskin göz kullan google UNK da UNK platform üzeri yayınla UNK reklam bul ancak iki şirket reklam yasakla ilgili resmi bir açıklama UNK UNK şirket kripto para birim basit bir ara motor ol gizle ol orta çık yıkı bir teknoloji düzgün bir pozlama ol UNK bugün ol yaygın bir UNK UNK bu UNK yeni varlık sınıf engelle el gel şe yap görün kripto ilgili reklam ilişkin reklam yasak yan sıra kripto para birim benimse UNK chrome uzantı UNK play store UNK dan kripto para kazan maden uygula UNK store uygula yasak kripto uygula geliş ara bir karışık yarat ay baş popüler kripto cüzdan uygula UNK UNK UNK UNK un bitcoin cüzdan UNK ı UNK play store UNK dan uyarı yap UNK kripto para reklam yasak kaldır isim makal ilk ol UNK UNK UNK para dünya yap etki merak bekle UNK şirket birtakım UNK UNK devam et son ol UNK UNK ın esa sahip şirket ol UNK UNK de UNK ilgili önem açıklama UNK yap açıklama UNK UNK ın tamamen UNK et bir ekosistem ol belir ekosistem ana amaç kripto para sektör gir deneyim yaşa iste UNK yatırım yardım et ol UNK amaç UNK yatırım bitcoin vade işlem üç fark para UNK sun hedefle belir konu ilgili yap çalış artık son UNK gel belir bu göre UNK platform amerikan dolar euro UNK sterlin bitcoin vade UNK UNK vade işlem fizik ol sun belir UNK UNK tan yap açıklama UNK UNK merak bekle iki şey biri ol diğer bitcoin UNK UNK si UNK gerçekten kripto para piyasa olumlu etki yap UNK platform UNK yeni UNK var üç fark para UNK bitcoin vade gel isim makal nihat UNK kocaaslan tarafından hazırla UNK UNK kripto para birim arka ana şirket ol bil UNK UNK ın baş sıra biraz UNK hong kong taban kripto para şirket UNK firma aç ilk UNK bünye kat dört yönet istifa karşı karşı kal UNK et dört yönet an hazırlık UNK ol UNK isim yeni bir UNK proje kur UNK moss thom cox brian UNK corey j UNK sıra firma iş al ikinci üçüncü dördüncü beşinci eleman an milyar dolar UNK piyasa değer sahip UNK UNK ın temel yapı taş oluş UNK protokol temel ol bitcoin UNK UNK UNK UNK arka UNK rakip ol kendi platform ön sür herkes bil UNK kripto para birim UNK moss şirket bünye teknolojik işlem sorum kıdem başkan yardımcı thom cox ürün üretim sorum başkan yardımcı brian UNK alt yapı sorum başkan yardımcı corey j UNK teknolojik ürün sorum kıdem müdür görev UNK dört firma geç yıl ilk aç zaman katıl UNK bahar ay sonra UNK üzer çalış yap ancak linkedin UNK profil bilgi göre UNK UNK cook yaz ay sıra UNK UNK u UNK terk et moss veri göre firma may ayı erken bir UNK çık UNK tarafından konu ilgili herhangi bir açıkla UNK UNK un arka UNK UNK ne ol kıdem dört yönet UNK et isim makal ali UNK UNK tarafından hazırla UNK UNK bir hafta önce UNK tahmini ol milyon zarar uğra japonya UNK UNK kripto para borsa zaif UNK sonra japonya UNK bakan taro aso UNK UNK bile radar takıl hak soruştur UNK adet bitcoin bir miktar UNK çal ancak sorun çal kripto para birim çoğu borsa müşteri ait ol borsa miktar karşıla para ol firma sonra şirket pay bir kısım sat müşteri zarar karşıla açıkla görün göre yaptırım UNK yap bir duyuru göre japonya UNK UNK UNK bakanlık zaif kripto para borsa işle tech bureau firma \" yönetim ceza \" uygula karar al bu UNK \" iş UNK emir \" UNK yeni yaptırım UNK söz konu UNK olay yol aç sorun UNK hak araştır yap kesin ol bu belirle başka bir UNK olay yaşa kesin önlem al firma bu yan sıra UNK olay arka saldırgan bu görev UNK borsa müşteri zarar tazmin et UNK ets gönder yaptırım UNK konu vurgu UNK iş UNK emir tech bureau firma üç aylık süre UNK ver ikinci yaptırım ol özellik şirket ciddi bir UNK sok firma ilk iş UNK emir UNK tarafından haziran ay UNK finans denet UNK kripto para borsa \" ceza kes \" isim makal ali UNK UNK tarafından hazırla UNK UNK UNK UNK bırak hafta boyunca sağlam bir ralli yüksel alt UNK UNK aynı seviye taşı beri piyasa kripto para karşı ol tutu UNK neden UNK değişim UNK UNK UNK in topluluk sözcü UNK UNK UNK kuru ortak ol UNK kline bitcoin fiyat yıl kadar dolar aş UNK et gerek dört faktör UNK haber UNK marc UNK bitcoin bin dolar UNK ilk ol önce UNK yatırım marc UNK UNK UNK açıklama katıl UNK et şu belir son ol ilginç dikkat çekici bir konu mastercard UNK ın al \" UNK taban varlık itibari para hesap ara \" bir köprü kur işlem hız amaçla patent vurgu UNK kline yukarı faktör bir ara gel bekle nihai boğa saha in üst bas bas vurgula ancak bu tabii zaman UNK UNK in fiyat son kadar dolar yap faktör - UNK kline açıkla isim makal ali UNK UNK tarafından hazırla UNK UNK isim firma baş araştır ol görev yap kendi çeşit ortam satoshi UNK ol ilan et craig wright afrika UNK da katıl bir UNK bitcoin cash UNK in kullanım alan ilgili UNK wright yap açıklama UNK teknoloji afrika ülke oldukça önem ol belir bitcoin cash UNK in UNK önem bir rol oyna belir wright şöyle UNK ol UNK et craig wright bitcoin cash UNK konuş isim makal nihat UNK kocaaslan tarafından hazırla UNK UNK üniversitesi tarafından üre amazon UNK web UNK UNK çalış UNK belli isim UNK platform ortalama saniye UNK UNK işlem sınır ulaş başar zor bir olay imza UNK sidney üniversitesi araştır bitcoin UNK halk açık UNK ağ r kullan tür konsorsiyum UNK ağ bir hybrid versiyon icat et görün göre model oldukça UNK ol üniversite bilişim teknoloji departman tarafından geliş UNK platform üre iddia göre bitcoin UNK in sahip ol UNK ağ kıyas hız UNK lider dr vincent UNK konu hak açıklama UNK haber UNK UNK UNK UNK UNK UNK UNK ın UNK UNK un büyük dert çöz UNK lider UNK UNK y göre UNK belli UNK platform an \" halk açık konsorsiyum model ara bir teknoloji \" sahip söz konu UNK işlem hacim kripto para birim kullan başla gerçekten UNK sorun tamamen kök UNK üniversitesi üre UNK UNK UNK ulaş isim makal ali UNK UNK tarafından hazırla UNK UNK UNK UNK başkent riga UNK da düzenle bitcoin konferans kripto para camia ön gel isim biri ol whale panda kendi kullan trade strateji ilgili önem UNK ver UNK yazılım UNK mühendis florian maier tone vay yer al whale panda yap açıklama trade strateji ilişkin şu UNK panda trade yap kullan strateji açıkla isim makal nihat UNK kocaaslan tarafından hazırla UNK UNK zaman popüler kripto para birim program UNK UNK ın sunucu UNK UNK kripto para sektör bitcoin UNK UNK sin ihtiyaç ol olası bir UNK UNK UNK zaman gelecek konu endüstri uzman röportaj gerçek UNK UNK in görüş al iki kişi group ceo UNK su maja UNK asya UNK UNK firma ceo UNK su dave chapman UNK popüler ol bir cevap sohbet başla kripto para dünya UNK sağla illa UNK UNK y ihtiyaç duy vurgula kendi bu yan sıra UNK UNK UNK UNK yatırım kripto para alan çek tek çıkar yol ol UNK et UNK şimdiden bile birçok banka UNK fina platform yavaş yavaş kripto para birim geç yap kripto para köken eleman iş al UNK yıl son kadar olası bir UNK onay gör mü soru cevap koca bir hayır ol UNK UNK karar yıl gel temel sebep karar tek bir taraf ait ol bağla ekle \" UNK endüstri uzman bitcoin UNK UNK si yıl son kadar gel isim makal ali UNK UNK tarafından hazırla UNK UNK bitcoin maden şirket UNK yap açıkla son model üretim maden cihaz duyur UNK UNK e isim çık cihaz oldukça başarı bulun çık haber göre cihaz trilyon ara bir th güç sahip ol UNK UNK ın UNK UNK gerçek dünya UNK maden UNK konu ilgili UNK ver şirket yeni ürün UNK UNK in üre cihaz UNK ol UNK sektör UNK UNK in önem rakip biri ol UNK başla UNK UNK in son hamle UNK açı oldukça sevin bir haber ol özellik UNK art başla tekel oldukça rahat UNK UNK in sektör giriş yap teknik mana UNK UNK de UNK cihaz üre an UNK hariç hemen herkes memnun et görün cihaz an sat başla ancak çık haber göre sektör UNK cihaz biri ol ol yeni cihaz yakın UNK raf yer UNK kong ulus borsa UNK UNK UNK işlem gör üçüncü maden şirket ol UNK UNK maden sektör yüz UNK ini UNK et durum an UNK cihaz maden UNK yaşa son geliş oldukça ilgi çekici ol belir UNK yakın UNK art ol rekabet sektör bireysel maden leh ol art alternatif önem ol UNK et UNK UNK yeni maden cihaz yoğun bir çalış sarf UNK UNK UNK in rakip UNK yeni cihaz duyur isim makal nihat UNK kocaaslan tarafından hazırla UNK UNK - uluslararası UNK banka UNK hükümet UNK görüşme UNK para fiyat UNK negatif UNK sahip ol söyle kripto para salı gün düş UNK düş dolar UNK para genel ol düşük iken toplam piyasa sermaye UNK döviz kapasite pazar gün milyar dolar kıyas haber yazar milyar dolar UNK UNK düş dolar gerile UNK değer kaybet dolar ol UNK kayıp dolar işlem UNK UNK ten araştır bir rapor UNK piyasa düzgü düzenle tek yolun uluslararası koordinasyon ol üzer UNK iki ekonomist yaz çalış yapay para düzenle çalış mevcut para akla standart benzer sınır öte bir koordinasyon ihtiyaç ol UNK ayrıca hükümet düzenle kripto para UNK etki ol yapay para menkul kıymet ol davran genel yasak odak negatif UNK meyil ol UNK UNK not et \" UNK kripto para menkul kıymet ol gör negatif getiri ol orta koy muhtemelen kripto para zorla bir UNK düzenle dair beklenti oluş akis spesifik güven ol yasal çerçeve tanıtım pozitif UNK yarat \" UNK UNK UNK dev walmart UNK yapraklı yeşil tedarik gıda veri eylül a kadar bir blok zincir koy gerek hareket şirket e UNK diğer tür salgın önle yardımcı UNK UNK para birim arka bulun dağıt kayıt teknoloji kullan kir yer tespit UNK yardımcı ol hangi mağaza tedarik et UNK UNK borsa UNK et sonra borç kripto para öde ad ata kayyum UNK kobayashi alacak çıkar koru al önlem açıkla bir rapor yayınla rapor ilginç kısım kobayashi UNK UNK büyük miktar kripto para sat neden açıkla kısım UNK açıklama göre yap satış alın diğer önlem UNK süreç bir gerek yıl şubat ay yap UNK rapor dayan UNK mitsui banka dernek UNK yer alan bilgi göre kobayashi belirli bir miktar bitcoin bitcoin cash UNK UNK dava aç ol alacak \" çıkar koru için \" sat sat yıl mart ay \" geri öde UNK \" kapsam yap amaç belirli bir miktar nakit UNK et ol belirle kobayashi UNK UNK sat yük miktar btc UNK UNK bitcoin fiyat dönem yaşa düş sebep ol UNK tam ol bitcoin bitcoin cash sat zaman para göre toplam milyar yen milyon dolar UNK UNK hesap tut tröst şirket kobayashi büyük bir japon banka ol sumitomo mitsui ara kurul tröst firma kur an kripto para fiyat göre milyar yen bir miktar UNK yap toplu sat sonuç ol tröst platform şimdiden \" btc alacak çıkar koru kadar para \" sahip ol vurgula teknik ol kobayashi btc yüksel UNK el kripto para birim çıkart değiş alacak öde miktar fazla kapa iste yine kobayashi UNK UNK kripto para piyasa ver zarar bir hayli UNK UNK kayyum yap toplu sat sebep açıkla isim makal ali UNK UNK tarafından hazırla UNK UNK yap manipülasyon bir yatırım tarafından kripto para dünya büyük sıkıntı ol UNK zaten UNK kurum bitcoin UNK UNK si büyük ürün izin ver arka yat temel sebep piyasa manipülasyon UNK and UNK ol geçen olay UNK hacim düşük kripto para birim - bazen büyük grup top ara kripto para birim - birim fiyat kolay bir UNK UNK UNK rağmen yatırım yine piyasa yatırım yap devam UNK manipülasyon hak konuş UNK ceo UNK su UNK zhao UNK ya göre an gelenek piyasa kripto para piyasa ol fazla manipülasyon UNK UNK UNK UNK eylül UNK twitter üzeri yap açıklama göre bir finans araç UNK bir piyasa işlem UNK UNK bu yan sıra medya içeri UNK bağlantı ol büyük piyasa yap dikkat çek kripto para birim UNK birden piyasa işlem gör UNK para birim çoğu gelenek fina araç akis birden fazla piyasa işlem gör bu UNK et gerçekten bir kaçın kıyas UNK ceo UNK su gelenek piyasa kripto UNK ya kıyas fazla manipülasyon var isim makal ali UNK UNK tarafından hazırla UNK UNK isim araştır firma yap çalış göre bitcoin kripto para yatırım zor geçen yaz ay boyunca UNK pozisyon koru dramatik bir UNK UNK yüksek UNK spekülasyon kullan UNK ek ol UNK ol yatırım amaç kullan UNK ilgili yap çalış enteresan sonuç orta çık bu göre toplam dolaşım yer alan bitcoin miktar ilgili yap çalış toplam bitcoin UNK yüz UNK sin UNK el değiş sonuç UNK durum piyasa artık stabil ol yön yorumla yol tercih et sonunda sektör gel biri fark düşünce sahip ol yatırım artık tek bir nokta UNK başla sonuç UNK uzun vade yatırım UNK spekülatör yaz boyunca pozisyon koru UNK et aşama piyasa ciddi bir UNK teknolojik UNK ol stabilite koru hatta art UNK UNK kullan sayı art sonuç var bitcoin kripto para yaşa büyük sorun ol gösteri kullanım sorun yavaş yavaş orta kalk UNK UNK kripto para sıradan vatandaş geçen gün önem bir hal al vurgu yap durum geliş UNK kripto para fazla UNK kullan ön aç UNK UNK gerçekten yaz ayı boyunca görece stabil bir dur sergile bak bitcoin yukarı doğru bir UNK yap UNK bitcoin kripto para yatırım yaz boyunca UNK UNK UNK da kal isim makal nihat UNK kocaaslan tarafından hazırla UNK UNK ara geçen uzun yıl rağmen kripto para piyasa hala büyük UNK durum bitcoin UNK in piyasa hakimiyet endeks bir göz at UNK durum etkile UNK UNK bitcoin UNK de teknolojik anlam üstün hız bir UNK bul kim göre gayet mümkün ancak bitcoin bu rağmen piyasa büyük ol devam et pek fark UNK bağla bitcoin UNK in ilk UNK ol insan bitcoin UNK de haberdar ol UNK UNK in piyasa UNK UNK yeni bir ölçüt oluş bitcoin hakimiyet endeks UNK bitcoin UNK in toplam UNK piyasa genel piyasa hacim ara ilişki açık UNK endeks genel ol yüksek ol söyle pek şaşır ol gerek bitcoin UNK in hakimiyet oran çoğu zaman yüz civar kal başar kabaca bitcoin UNK in toplam piyasa hacim genel piyasa değer yaklaşık yüz UNK UNK denk gel anlam gel ancak oran yıl UNK yüz hatta yüz seviye yüksel UNK UNK in hakimiyet art piyasa diğer UNK pek iş yara insan yalnızca bitcoin UNK odakla UNK endeks art UNK UNK konu sorun yaşa yol aç piyasa UNK ciddi bir kısım piyasa hacim milyon dolar bitcoin hakimiyet endeks UNK n art UNK UNK sorun yaşa yol aç endeks art demek bitcoin UNK ak para art demek diğer UNK zor an yaşa sebep UNK UNK in piyasa hakimiyet diğer kripto para olumsuz etkile ol isim makal ömer UNK tarafından hazırla UNK yayınla'"
      ]
     },
     "execution_count": 13,
     "metadata": {},
     "output_type": "execute_result"
    }
   ],
   "source": [
    "derlem[1206]"
   ]
  },
  {
   "cell_type": "code",
   "execution_count": 11,
   "id": "04ccad72",
   "metadata": {},
   "outputs": [],
   "source": [
    "from sklearn.feature_extraction.text import CountVectorizer\n",
    "#bag of words(BOW)\n",
    "cv=CountVectorizer(min_df =50)#en fazla kullanılan x tane kelimeyi al işlem gücü artıyor ne kadar artarsa karşılaştırma zor oluyor\n",
    "X=cv.fit_transform(derlem).toarray()#diziye çevir#x tanenin hepsini karşılaştırıyor\n",
    "#bağımlı değişken "
   ]
  },
  {
   "cell_type": "code",
   "execution_count": 12,
   "id": "a533d31c",
   "metadata": {},
   "outputs": [
    {
     "name": "stdout",
     "output_type": "stream",
     "text": [
      "['ab', 'abc', 'abd', 'acil', 'acı', 'ad', 'ada', 'adalet', 'adam', 'adaptasyon', 'aday', 'adem', 'adet', 'adeta', 'adil', 'adres', 'adım', 'afrika', 'agresif', 'aile', 'ait', 'ajans', 'ak', 'akis', 'akla', 'aksi', 'aktar', 'aktarım', 'aktif', 'aktivite', 'akıl', 'akım', 'akın', 'akşam', 'al', 'alacak', 'alaka', 'alan', 'alex', 'algoritma', 'algı', 'ali', 'almanya', 'alt', 'alternatif', 'altyapı', 'altı', 'altın', 'alım', 'alın', 'alışveriş', 'amazon', 'amaç', 'amaçla', 'amerika', 'amerikan', 'amir', 'an', 'ana', 'anahtar', 'analist', 'analitik', 'analiz', 'ancak', 'and', 'andrew', 'android', 'ani', 'aniden', 'anket', 'anla', 'anlam', 'anlaş', 'anlaşma', 'anlık', 'anonim', 'anı', 'app', 'ara', 'aracı', 'aracılığıyla', 'aralık', 'araç', 'araştır', 'arda', 'ardından', 'argüman', 'arjantin', 'arka', 'arkadaş', 'art', 'arthur', 'arttır', 'artı', 'artık', 'artır', 'artırım', 'arz', 'askı', 'asla', 'asset', 'asya', 'asıl', 'at', 'ata', 'atak', 'atla', 'atm', 'atıf', 'atıl', 'atılım', 'avantaj', 'avrupa', 'avukat', 'avustralya', 'ay', 'ayak', 'ayarla', 'aylık', 'aynı', 'ayrı', 'ayrıca', 'ayrıntı', 'ayrış', 'ayı', 'ayır', 'az', 'azal', 'aç', 'açacak', 'açgözlü', 'açı', 'açık', 'açıkla', 'açıklama', 'ağ', 'ağa', 'ağda', 'ağustos', 'ağı', 'ağın', 'ağır', 'ağırlık', 'ağız', 'aş', 'aşama', 'aşağı', 'aşk', 'aşırı', 'ba', 'bahar', 'bahis', 'bahset', 'bak', 'bakan', 'bakanlık', 'bakiye', 'bakım', 'bakış', 'balina', 'balon', 'band', 'bank', 'banka', 'bant', 'baraj', 'barın', 'bas', 'basit', 'baskı', 'baskın', 'basın', 'bat', 'batı', 'baz', 'bazen', 'bazı', 'bağ', 'bağla', 'bağlam', 'bağlantı', 'bağımsız', 'bağış', 'baş', 'başar', 'başarı', 'başbakan', 'başka', 'başkan', 'başla', 'başlangıç', 'başlı', 'başlıca', 'başlık', 'başvur', 'başvuru', 'bekle', 'beklenti', 'belge', 'belir', 'belirgin', 'belirle', 'belirli', 'belirsiz', 'belirti', 'belli', 'ben', 'benimse', 'benze', 'benzer', 'benzeri', 'beri', 'beta', 'beyan', 'beyaz', 'beğen', 'beş', 'beşinci', 'bide', 'bil', 'bildiri', 'bile', 'bilet', 'bilgi', 'bilgisayar', 'bilim', 'bill', 'bin', 'bir', 'biraz', 'birbiri', 'birden', 'birer', 'birey', 'bireysel', 'biri', 'birik', 'birikim', 'birim', 'birinci', 'birleş', 'birleşik', 'birlik', 'birçok', 'birçoğu', 'bit', 'bitcoin', 'bitir', 'biz', 'block', 'blog', 'blok', 'bloomberg', 'bnb', 'bomba', 'borsa', 'borç', 'boy', 'boyunca', 'boyut', 'boz', 'boğa', 'boğası', 'boş', 'boşluk', 'brad', 'brandt', 'brent', 'brezilya', 'brian', 'btc', 'bu', 'bugün', 'bul', 'bula', 'bulan', 'bulgu', 'bulun', 'bulut', 'buluş', 'bura', 'buçuk', 'böl', 'bölge', 'bölüm', 'böyle', 'bülten', 'bünye', 'büro', 'bürün', 'bütçe', 'bütün', 'büyü', 'büyük', 'bırak', 'camia', 'can', 'canlı', 'capital', 'cash', 'cay', 'ceo', 'cep', 'cevap', 'ceza', 'chain', 'chase', 'chicago', 'ciddi', 'cihaz', 'cins', 'civar', 'classic', 'cnbc', 'core', 'corona', 'craig', 'creek', 'cuma', 'cumartesi', 'cumhurbaşkanı', 'cumhuriyet', 'cümle', 'cüzdan', 'da', 'daha', 'dahası', 'dahi', 'dahil', 'dair', 'daire', 'dakika', 'dalga', 'damga', 'dan', 'danışman', 'dar', 'dark', 'dash', 'data', 'dava', 'davet', 'david', 'davran', 'dayalı', 'dayan', 'dayanak', 'dağıt', 'dağıtık', 'dağıtım', 'de', 'defalarca', 'defi', 'defter', 'dek', 'demek', 'demokrat', 'dene', 'denetim', 'denetle', 'deneyim', 'denge', 'denk', 'denli', 'departman', 'depo', 'depola', 'derece', 'derin', 'derle', 'destek', 'destekle', 'detay', 'dev', 'devam', 'devasa', 'devin', 'devir', 'devlet', 'devrim', 'değer', 'değil', 'değin', 'değiş', 'değişik', 'değişim', 'değişken', 'digital', 'dik', 'dikkat', 'dil', 'dile', 'dilim', 'dinamik', 'dip', 'direkt', 'direktör', 'diren', 'direnç', 'dizi', 'diğer', 'dokun', 'dokuz', 'dol', 'dolandır', 'dolandırıcı', 'dolar', 'dolay', 'dolayı', 'dolayısıyla', 'dolaş', 'dolaşım', 'dolu', 'don', 'donald', 'donanım', 'dorsey', 'dost', 'dosya', 'dow', 'doğ', 'doğa', 'doğal', 'doğru', 'doğrudan', 'doğrula', 'doğrultu', 'doğu', 'doğur', 'dr', 'draper', 'dur', 'durgun', 'durum', 'duruşma', 'duy', 'duyarlı', 'duygu', 'duyu', 'duyur', 'duyuru', 'dön', 'dönem', 'döngü', 'dönme', 'dönüm', 'dönüş', 'dönüşüm', 'dördüncü', 'dört', 'döviz', 'dün', 'dünya', 'düzel', 'düzeltmen', 'düzen', 'düzenle', 'düzey', 'düğüm', 'düş', 'düşman', 'düşük', 'düşün', 'düşünce', 'düşür', 'dış', 'edin', 'egemen', 'ek', 'ekim', 'ekip', 'ekipman', 'ekle', 'ekonomi', 'ekonomik', 'ekonomist', 'ekosistem', 'ekran', 'eksik', 'ekstra', 'el', 'elektrik', 'elektronik', 'eleştir', 'eleştiri', 'eleştirmen', 'em', 'emanet', 'emekli', 'emir', 'emtia', 'en', 'endeks', 'endişe', 'endüstri', 'enerji', 'enflasyon', 'engel', 'engelle', 'enstitü', 'entegrasyon', 'epey', 'eposta', 'er', 'eriş', 'erişim', 'erken', 'ertele', 'esa', 'eski', 'esna', 'et', 'etap', 'etken', 'etki', 'etkile', 'etkileşim', 'etkin', 'etraf', 'ets', 'euro', 'ev', 'evet', 'eyalet', 'eylem', 'eylül', 'eğilim', 'eğitim', 'eş', 'eşik', 'eşit', 'faaliyet', 'facebook', 'faiz', 'fakat', 'faktör', 'fark', 'farkındalık', 'fayda', 'fazla', 'fazlasıyla', 'fed', 'felaket', 'fenomen', 'fiat', 'fidel', 'fikir', 'film', 'fina', 'finans', 'finansman', 'firma', 'first', 'fiyat', 'fiyatla', 'fizik', 'fiziki', 'fon', 'fonla', 'formasyon', 'forum', 'fotoğraf', 'francisco', 'fransa', 'fund', 'fırla', 'fırsat', 'fırtına', 'garanti', 'gayet', 'gaz', 'gazete', 'gece', 'gecik', 'gel', 'gelecek', 'gelenek', 'gelir', 'geliş', 'gelişim', 'gem', 'gemi', 'genel', 'geniş', 'genişle', 'genç', 'geoffrey', 'gerek', 'gerekli', 'gereksinim', 'gerekçe', 'geri', 'gerile', 'gerilim', 'gerçek', 'gerçekten', 'getir', 'getiri', 'gezin', 'geç', 'geçen', 'geçerli', 'geçici', 'geçir', 'geçmiş', 'gider', 'gidişat', 'gir', 'giriş', 'girişim', 'git', 'gizem', 'gizle', 'gizli', 'global', 'gold', 'goldman', 'google', 'grafik', 'greenspan', 'group', 'grub', 'grup', 'gönder', 'gönderi', 'gönderim', 'gör', 'göre', 'görece', 'görev', 'görün', 'görüntü', 'görünüm', 'görüş', 'görüşme', 'göster', 'gösterge', 'gösteri', 'götür', 'göz', 'gözde', 'gözetim', 'gözle', 'gözlem', 'gözük', 'gümüş', 'gün', 'günay', 'güncel', 'güncelle', 'gündem', 'güney', 'günlük', 'güt', 'güven', 'güvenlik', 'güzel', 'güç', 'haber', 'haberdar', 'hacim', 'hack', 'hacker', 'hafif', 'hafta', 'hak', 'hakim', 'hakimiyet', 'hal', 'hala', 'halen', 'halihazır', 'halk', 'ham', 'hamle', 'hane', 'hangi', 'harca', 'hard', 'hareket', 'harika', 'harita', 'hariç', 'hasar', 'hat', 'hata', 'hatta', 'hatır', 'hatırla', 'hava', 'havuz', 'hay', 'hayal', 'hayat', 'hayli', 'hayran', 'hayır', 'hazin', 'haziran', 'hazır', 'hazırla', 'hazırlık', 'hedef', 'hedefle', 'hemen', 'henüz', 'hep', 'hepsi', 'herhangi', 'herk', 'herkes', 'hesap', 'hesapla', 'heyecan', 'hikaye', 'hindistan', 'his', 'hisse', 'hissedar', 'hisset', 'hissiyat', 'hitap', 'hizmet', 'hiçbir', 'hiçbiri', 'hold', 'hollanda', 'hong', 'hukuk', 'hükümet', 'hırsız', 'hız', 'ibaret', 'iddia', 'ifade', 'ihlal', 'ihraç', 'ihtimal', 'ihtiyaç', 'iken', 'iki', 'ikinci', 'ikiz', 'ikna', 'ila', 'ilan', 'ileri', 'ilerle', 'ilet', 'iletişim', 'ilgi', 'ilgilen', 'ilgili', 'ilginç', 'ilişki', 'ilişkin', 'ilk', 'ima', 'imkan', 'imza', 'imzala', 'in', 'inan', 'inanç', 'incele', 'indikatör', 'indirim', 'ini', 'inovasyon', 'insan', 'internet', 'inşa', 'iptal', 'ipucu', 'isim', 'ispat', 'istatistik', 'iste', 'istek', 'ister', 'istihdam', 'istikrar', 'it', 'itibar', 'itibaren', 'itibari', 'itiraf', 'ivme', 'iyi', 'iyimser', 'iz', 'izin', 'izle', 'izlem', 'iç', 'içer', 'içeri', 'içerik', 'için', 'iş', 'işaret', 'işbirliği', 'işle', 'işlem', 'işlemci', 'işlev', 'iştah', 'iştirak', 'jack', 'japon', 'japonya', 'joe', 'john', 'josh', 'journal', 'jp', 'jpmorgan', 'justin', 'kabul', 'kadar', 'kadarki', 'kadem', 'kadın', 'kafa', 'kal', 'kalan', 'kaldır', 'kaldıraç', 'kalem', 'kalk', 'kampanya', 'kamu', 'kamuoyu', 'kan', 'kanada', 'kanal', 'kanun', 'kanıt', 'kanıtla', 'kap', 'kapa', 'kapasite', 'kapsa', 'kapsam', 'kapı', 'kar', 'karamsar', 'karanlık', 'karantina', 'karar', 'kardeş', 'karmaşık', 'kart', 'karış', 'karışık', 'karşı', 'karşıla', 'karşılaş', 'karşılaştır', 'karşılık', 'karşın', 'karşıt', 'kasım', 'kat', 'katalizör', 'katkı', 'katla', 'katlan', 'katman', 'katı', 'katıl', 'katılım', 'kavram', 'kavuş', 'kay', 'kaybet', 'kaybol', 'kaydet', 'kaygı', 'kaynak', 'kayıp', 'kayıt', 'kaz', 'kaza', 'kazan', 'kazanç', 'kazanım', 'kazım', 'kaç', 'kaçak', 'kaçın', 'kaçınılmaz', 'kaçır', 'kağıt', 'kel', 'kelime', 'kenar', 'kendi', 'kere', 'kes', 'kesim', 'kesin', 'kesinti', 'keskin', 'keşfet', 'kilit', 'kim', 'kimi', 'kimlik', 'kimse', 'kitap', 'kitle', 'kişi', 'kişisel', 'kocaaslan', 'kod', 'kol', 'kolay', 'koltuk', 'komisyon', 'komite', 'kon', 'konferans', 'kong', 'kongre', 'konsept', 'konsolidasyon', 'kontrat', 'kontrol', 'konu', 'konuk', 'konum', 'konuş', 'kor', 'kore', 'korelasyon', 'kork', 'korku', 'korkut', 'korsan', 'koru', 'koy', 'koş', 'koşu', 'koşul', 'kral', 'krallık', 'kredi', 'kripto', 'kritik', 'kriz', 'kulak', 'kullan', 'kullanım', 'kur', 'kural', 'kuran', 'kurban', 'kurtar', 'kurtul', 'kuru', 'kurul', 'kurulu', 'kuruluş', 'kurum', 'kutla', 'kuvvet', 'kuzey', 'köprü', 'kötü', 'küresel', 'küçük', 'kıdem', 'kıl', 'kır', 'kıran', 'kırmızı', 'kırık', 'kısa', 'kısaç', 'kısmen', 'kısım', 'kısıt', 'kısıtla', 'kıtlık', 'kıyas', 'kıyasla', 'kıymet', 'kış', 'la', 'lab', 'lansman', 'lara', 'latin', 'ledger', 'lee', 'leh', 'li', 'lider', 'likidite', 'liman', 'limit', 'link', 'lira', 'lisan', 'lisans', 'list', 'liste', 'listele', 'londra', 'long', 'lumen', 'maalesef', 'maaş', 'madde', 'maden', 'mahke', 'mahkemesi', 'majör', 'makal', 'makale', 'maker', 'makine', 'makro', 'maksimum', 'makul', 'mal', 'mali', 'maliyet', 'malta', 'mana', 'manipülasyon', 'mantık', 'marj', 'mark', 'marka', 'market', 'mart', 'maruz', 'masa', 'masraf', 'mastercard', 'max', 'may', 'mayıs', 'mağaza', 'mağdur', 'meblağ', 'meclis', 'medya', 'mekanizma', 'memnun', 'menkul', 'merak', 'merkez', 'merkeziyet', 'mesaj', 'mesele', 'metal', 'metot', 'mevcut', 'mevduat', 'meydan', 'meşgul', 'meşru', 'mi', 'michael', 'microsoft', 'mike', 'miktar', 'mil', 'milletvekili', 'milyar', 'milyarder', 'milyarlarca', 'milyon', 'milyonlarca', 'minimum', 'mobil', 'mode', 'model', 'momentum', 'money', 'morgan', 'motor', 'mt', 'mu', 'muazzam', 'muhtemel', 'muhtemelen', 'mum', 'musk', 'mutlu', 'mücadele', 'müdür', 'mühendis', 'müjde', 'mükemmel', 'mümkün', 'müthiş', 'müşteri', 'mı', 'na', 'nadir', 'nakit', 'nasdaq', 'nazaran', 'nd', 'nda', 'ne', 'neden', 'negatif', 'nere', 'nesil', 'net', 'network', 'nevi', 'new', 'news', 'nihai', 'nihat', 'nihayet', 'nisan', 'nispeten', 'nitelen', 'nitelik', 'niyet', 'nokta', 'normal', 'not', 'numara', 'nyse', 'nü', 'nüfus', 'ocak', 'odak', 'odakla', 'of', 'ofis', 'oku', 'ol', 'olanak', 'olası', 'olasılık', 'olay', 'olağan', 'olağanüstü', 'oldukça', 'olgun', 'olumlu', 'olumsuz', 'oluş', 'oluşum', 'on', 'onay', 'onayla', 'onlarca', 'operasyon', 'operatör', 'opsiyon', 'ora', 'oran', 'organ', 'organizasyon', 'orijin', 'orta', 'ortak', 'ortaklık', 'ortalama', 'ortam', 'otomatik', 'otorite', 'otur', 'oturum', 'oy', 'oyla', 'oyna', 'oynak', 'oyun', 'paha', 'paket', 'pandemi', 'panik', 'para', 'parabolik', 'paralel', 'parite', 'parlak', 'parlamento', 'parti', 'parça', 'patla', 'paul', 'pay', 'paylaş', 'paylaşım', 'paypal', 'pazar', 'pazarla', 'pazartesi', 'pek', 'peki', 'pekin', 'performans', 'personel', 'peter', 'petro', 'petrol', 'peş', 'pilot', 'piyasa', 'plan', 'planla', 'platform', 'po', 'poli', 'polis', 'politik', 'politika', 'ponzi', 'popülarite', 'popüler', 'portföy', 'post', 'potansiyel', 'pozisyon', 'pozitif', 'pp', 'pro', 'problem', 'profesyonel', 'profesör', 'profil', 'program', 'proje', 'protokol', 'psikolojik', 'puan', 'rahat', 'rahatla', 'rakam', 'rakip', 'ralli', 'rapor', 'raporla', 'rate', 'rağmen', 'read', 'reddet', 'reddit', 'regülasyon', 'regülatör', 'rehber', 'rekabet', 'reklam', 'rekor', 'research', 'resmen', 'resmi', 'reuter', 'rezerv', 'risk', 'roger', 'rol', 'ru', 'rusya', 'röportaj', 'rüzgar', 'saat', 'sabah', 'sabit', 'sach', 'sahip', 'sahn', 'sahtekar', 'sakin', 'sakla', 'sal', 'saldırgan', 'saldırı', 'salgın', 'salvador', 'salı', 'san', 'sanal', 'sanat', 'saray', 'sarf', 'sark', 'sars', 'sat', 'satoshi', 'satıcı', 'satım', 'satış', 'savaş', 'savun', 'say', 'sayed', 'sayfa', 'sayı', 'sağla', 'sağlam', 'sağlık', 'schiff', 'se', 'seans', 'sebep', 'sefer', 'sekiz', 'sektör', 'senaryo', 'senato', 'sene', 'senet', 'sent', 'ser', 'serbest', 'sergile', 'seri', 'sermaye', 'sert', 'servet', 'servi', 'servis', 'ses', 'sev', 'sevin', 'seviye', 'seyahat', 'seyir', 'seyret', 'sezon', 'seç', 'seçenek', 'seçim', 'short', 'si', 'siber', 'sigorta', 'sil', 'silah', 'sin', 'singapur', 'sini', 'sinyal', 'sipariş', 'sistem', 'site', 'siyasi', 'siz', 'smith', 'sok', 'sol', 'solana', 'somut', 'son', 'sonra', 'sonunda', 'sonuç', 'sor', 'sorgula', 'soru', 'sorum', 'sorumluluk', 'sorun', 'soruştur', 'sosyal', 'soğuk', 'sp', 'spekülasyon', 'spekülatif', 'spesifik', 'sponsor', 'spor', 'spot', 'stabil', 'standart', 'startup', 'statü', 'sterlin', 'stok', 'strateji', 'stratejik', 'stratejist', 'street', 'su', 'sun', 'sunucu', 'suç', 'suçla', 'sv', 'söyle', 'söylem', 'söylenti', 'söz', 'sözcü', 'sözleşme', 'sür', 'süre', 'sürekli', 'süreç', 'sürpriz', 'sürükle', 'sürül', 'sürüm', 'sı', 'sıcak', 'sıfır', 'sık', 'sıkça', 'sıkı', 'sıkıntı', 'sıkış', 'sınıf', 'sınır', 'sınırla', 'sınırsız', 'sır', 'sıra', 'sıradan', 'sırala', 'sıçra', 'ta', 'taban', 'tabi', 'tabii', 'tabir', 'tablo', 'tahmin', 'tahmini', 'taht', 'tahvil', 'tak', 'taka', 'taki', 'takiben', 'takip', 'takıl', 'takım', 'talep', 'tam', 'tamam', 'tamamen', 'tamamla', 'tan', 'tane', 'tanı', 'tanık', 'tanımla', 'tanıtım', 'tanış', 'tara', 'taraf', 'taraftar', 'tarafından', 'tarih', 'tartış', 'tarz', 'tasar', 'tasarla', 'tasarruf', 'tasarı', 'tasarım', 'tatil', 'tavsiye', 'tavır', 'taş', 'taşı', 'taşın', 'te', 'tedarik', 'tedbir', 'tedirgin', 'tehdit', 'tehlike', 'tek', 'tekabül', 'teklif', 'teknik', 'teknoloji', 'teknolojik', 'tekrar', 'tekrarla', 'telafi', 'telefon', 'tema', 'temel', 'teminat', 'temkin', 'temmuz', 'temsil', 'temsilci', 'ten', 'teori', 'tepe', 'tepki', 'ter', 'tercih', 'terim', 'terk', 'terra', 'ters', 'terör', 'tesis', 'tesla', 'teslim', 'tespit', 'test', 'tetikle', 'teyit', 'tezgah', 'teşkil', 'teşvik', 'the', 'thom', 'ticaret', 'ticari', 'tim', 'tip', 'tl', 'token', 'tom', 'tone', 'top', 'toparla', 'topla', 'toplam', 'toplantı', 'toplu', 'topluluk', 'toplum', 'trade', 'trader', 'transfer', 'trend', 'trilyon', 'tron', 'trump', 'trust', 'tur', 'tut', 'tutar', 'tutukla', 'tutum', 'tutun', 'tv', 'tweet', 'twitter', 'ty', 'tüccar', 'tüket', 'tüketim', 'tümü', 'tür', 'türev', 'türk', 'türkiye', 'türlü', 'tıkla', 'tıpkı', 'tırman', 'ucuz', 'ufak', 'ukrayna', 'ulaş', 'ulus', 'uluslararası', 'um', 'umut', 'un', 'unk', 'unsur', 'unut', 'usd', 'usta', 'uy', 'uyan', 'uyar', 'uyarı', 'uygula', 'uygun', 'uyum', 'uyuşturucu', 'uz', 'uza', 'uzak', 'uzman', 'uzun', 'uç', 'uğra', 'uğraş', 'vaat', 'vade', 'vaka', 'vakit', 'vakıf', 'van', 'var', 'varan', 'varil', 'varlık', 'varsay', 'vatandaş', 'vay', 'vazgeç', 'venezuela', 'ver', 'vergi', 'veri', 'verici', 'verim', 'versiyon', 'video', 'virüs', 'visa', 'vizyon', 'volatilite', 'vur', 'vurgu', 'vurgula', 'wall', 'warren', 'washington', 'wave', 'web', 'whale', 'white', 'will', 'woo', 'work', 'wright', 'wu', 'ya', 'yabancı', 'yak', 'yakala', 'yaklaş', 'yaklaşık', 'yaklaşım', 'yakın', 'yakıt', 'yalan', 'yalnızca', 'yan', 'yankı', 'yanlı', 'yanlış', 'yansı', 'yanıt', 'yanıtla', 'yap', 'yapay', 'yaptırım', 'yapı', 'yara', 'yarar', 'yarat', 'yaratı', 'yardım', 'yardımcı', 'yargı', 'yarı', 'yarım', 'yarın', 'yarış', 'yasa', 'yasadışı', 'yasak', 'yasakla', 'yasal', 'yat', 'yatay', 'yatır', 'yatırım', 'yavaş', 'yavaşla', 'yay', 'yaygın', 'yayımla', 'yayın', 'yayınla', 'yaz', 'yazar', 'yazı', 'yazık', 'yazılım', 'yazım', 'yaş', 'yaşa', 'yaşam', 'ye', 'yedi', 'yen', 'yeni', 'yeniden', 'yenile', 'yenilik', 'yepyeni', 'yer', 'yerel', 'yerleş', 'yet', 'yetenek', 'yeterli', 'yetersiz', 'yetki', 'yetkili', 'yeşil', 'yi', 'yine', 'yinele', 'yirmi', 'yok', 'yol', 'yolcu', 'york', 'yorum', 'yorumla', 'yoğun', 'yu', 'yuan', 'yukarı', 'yön', 'yönel', 'yönelik', 'yönet', 'yönetim', 'yönlen', 'yöntem', 'yük', 'yükle', 'yüksek', 'yüksel', 'yürü', 'yürürlük', 'yüz', 'yüzde', 'yıl', 'yıldız', 'yıllık', 'zaman', 'zarar', 'zarf', 'zaten', 'zayıf', 'zayıfla', 'zec', 'zeka', 'zelanda', 'zemin', 'zengin', 'zhao', 'zincir', 'zira', 'zirve', 'ziyad', 'ziyaret', 'zor', 'zorla', 'zorunlu', 'çaba', 'çakıl', 'çal', 'çalış', 'çap', 'çare', 'çarp', 'çarpı', 'çarşamba', 'çağ', 'çağrı', 'çek', 'çekerek', 'çeki', 'çekici', 'çekim', 'çerçeve', 'çevir', 'çevre', 'çevrimiçi', 'çeyrek', 'çeşit', 'çift', 'çin', 'çinli', 'çiz', 'çizgi', 'çocuk', 'çok', 'çoğal', 'çoğu', 'çoğunluk', 'çök', 'çöz', 'çözüm', 'çık', 'çıkar', 'çıkarma', 'çıkart', 'çılgın', 'öde', 'ödül', 'öl', 'ölç', 'ölçek', 'ölçü', 'ölü', 'ölüm', 'ömer', 'ömür', 'ön', 'önce', 'öncelik', 'öncü', 'önem', 'öner', 'öneri', 'öngör', 'öngörü', 'önle', 'önlem', 'örgüt', 'örnek', 'öte', 'ötürü', 'öyle', 'öz', 'özel', 'özellik', 'özet', 'özgün', 'özgür', 'öğle', 'öğren', 'öğrenci', 'ücret', 'ülke', 'ün', 'üniversitesi', 'üre', 'üretim', 'ürün', 'üst', 'üste', 'üstelik', 'üstlen', 'üstün', 'üye', 'üz', 'üzer', 'üzere', 'üzeri', 'üzre', 'üç', 'üçgen', 'üçüncü', 'ın', 'ısrar', 'ışık', 'şahit', 'şaka', 'şan', 'şans', 'şart', 'şaşkın', 'şaşır', 'şe', 'şeffaf', 'şehir', 'şekil', 'şema', 'şey', 'şiddet', 'şifre', 'şikayet', 'şimdi', 'şimdiden', 'şimdilik', 'şirket', 'şok', 'şu', 'şua', 'şubat', 'şube', 'şöyle', 'şüphe', 'şüphesiz']\n"
     ]
    },
    {
     "name": "stderr",
     "output_type": "stream",
     "text": [
      "C:\\Users\\zetze\\anaconda3\\lib\\site-packages\\sklearn\\utils\\deprecation.py:87: FutureWarning: Function get_feature_names is deprecated; get_feature_names is deprecated in 1.0 and will be removed in 1.2. Please use get_feature_names_out instead.\n",
      "  warnings.warn(msg, category=FutureWarning)\n"
     ]
    }
   ],
   "source": [
    "print(cv.get_feature_names())"
   ]
  },
  {
   "cell_type": "code",
   "execution_count": 12,
   "id": "dbbc522e",
   "metadata": {},
   "outputs": [
    {
     "data": {
      "text/plain": [
       "1888"
      ]
     },
     "execution_count": 12,
     "metadata": {},
     "output_type": "execute_result"
    }
   ],
   "source": [
    "len(cv.get_feature_names())"
   ]
  },
  {
   "cell_type": "code",
   "execution_count": 13,
   "id": "b5057c60",
   "metadata": {},
   "outputs": [
    {
     "data": {
      "text/plain": [
       "1207"
      ]
     },
     "execution_count": 13,
     "metadata": {},
     "output_type": "execute_result"
    }
   ],
   "source": [
    "len(X)"
   ]
  },
  {
   "cell_type": "code",
   "execution_count": 15,
   "id": "09c6fb7d",
   "metadata": {},
   "outputs": [
    {
     "data": {
      "text/plain": [
       "0        artar\n",
       "1        artar\n",
       "2       azalir\n",
       "3        artar\n",
       "4       azalir\n",
       "         ...  \n",
       "1202    azalir\n",
       "1203    azalir\n",
       "1204    azalir\n",
       "1205     artar\n",
       "1206     artar\n",
       "Name: DURUM, Length: 1207, dtype: object"
      ]
     },
     "execution_count": 15,
     "metadata": {},
     "output_type": "execute_result"
    }
   ],
   "source": [
    "y=etiketler.DURUM\n",
    "y"
   ]
  },
  {
   "cell_type": "code",
   "execution_count": 16,
   "id": "dd86409e",
   "metadata": {},
   "outputs": [],
   "source": [
    "for i in range(len(y)):\n",
    "    if y[i]=='artar':\n",
    "        y[i]=1\n",
    "    else:\n",
    "        y[i]=0"
   ]
  },
  {
   "cell_type": "code",
   "execution_count": 17,
   "id": "81d953f6",
   "metadata": {},
   "outputs": [
    {
     "data": {
      "text/plain": [
       "0       1\n",
       "1       1\n",
       "2       0\n",
       "3       1\n",
       "4       0\n",
       "       ..\n",
       "1202    0\n",
       "1203    0\n",
       "1204    0\n",
       "1205    1\n",
       "1206    1\n",
       "Name: DURUM, Length: 1207, dtype: object"
      ]
     },
     "execution_count": 17,
     "metadata": {},
     "output_type": "execute_result"
    }
   ],
   "source": [
    "y"
   ]
  },
  {
   "cell_type": "code",
   "execution_count": 19,
   "id": "a387b648",
   "metadata": {},
   "outputs": [],
   "source": [
    "X = np.asarray(X).astype(np.float32)\n",
    "y = np.asarray(y).astype(np.float32)"
   ]
  },
  {
   "cell_type": "code",
   "execution_count": 21,
   "id": "e26b88de",
   "metadata": {},
   "outputs": [],
   "source": [
    "from sklearn.model_selection import train_test_split\n",
    "X_train,X_test,y_train,y_test=train_test_split(X,y,test_size=0.20,random_state=0)"
   ]
  },
  {
   "cell_type": "code",
   "execution_count": 25,
   "id": "0490053f",
   "metadata": {},
   "outputs": [
    {
     "name": "stdout",
     "output_type": "stream",
     "text": [
      "random forest:\n",
      "[[38 79]\n",
      " [58 67]]\n",
      "0.43388429752066116\n"
     ]
    }
   ],
   "source": [
    "#FEATURE SELECTION YAPILMADAN\n",
    "from sklearn.ensemble import RandomForestClassifier\n",
    "rfc=RandomForestClassifier(n_estimators=10,criterion='entropy')\n",
    "rfc.fit(X_train,y_train)\n",
    "pred_randforest=rfc.predict(X_test)\n",
    "from sklearn.metrics import confusion_matrix\n",
    "print(\"random forest:\")\n",
    "cm=confusion_matrix(y_test,pred_randforest)\n",
    "from sklearn.metrics import confusion_matrix,accuracy_score\n",
    "accuracy=accuracy_score(y_test,pred_randforest)\n",
    "print(cm)\n",
    "print(accuracy)"
   ]
  },
  {
   "cell_type": "code",
   "execution_count": 26,
   "id": "5181576f",
   "metadata": {},
   "outputs": [
    {
     "name": "stderr",
     "output_type": "stream",
     "text": [
      "C:\\Users\\zetze\\anaconda3\\lib\\site-packages\\sklearn\\utils\\deprecation.py:87: FutureWarning: Function get_feature_names is deprecated; get_feature_names is deprecated in 1.0 and will be removed in 1.2. Please use get_feature_names_out instead.\n",
      "  warnings.warn(msg, category=FutureWarning)\n"
     ]
    }
   ],
   "source": [
    "toplam=0\n",
    "ozel_kelimeler=[]\n",
    "for i in range (len(rfc.feature_importances_)) :\n",
    "    if rfc.feature_importances_[i]>0.0022: \n",
    "        ozel_kelimeler.append(cv.get_feature_names()[i])"
   ]
  },
  {
   "cell_type": "code",
   "execution_count": 90,
   "id": "6128de44",
   "metadata": {},
   "outputs": [
    {
     "data": {
      "text/plain": [
       "['abd',\n",
       " 'alın',\n",
       " 'ara',\n",
       " 'aralık',\n",
       " 'ardından',\n",
       " 'art',\n",
       " 'açı',\n",
       " 'ağ',\n",
       " 'baz',\n",
       " 'baş',\n",
       " 'belir',\n",
       " 'beri',\n",
       " 'bir',\n",
       " 'birim',\n",
       " 'bitcoin',\n",
       " 'blok',\n",
       " 'btc',\n",
       " 'büyük',\n",
       " 'craig',\n",
       " 'cuma',\n",
       " 'cumartesi',\n",
       " 'cüzdan',\n",
       " 'defi',\n",
       " 'değer',\n",
       " 'diğer',\n",
       " 'dolayı',\n",
       " 'durum',\n",
       " 'dönem',\n",
       " 'dünya',\n",
       " 'düş',\n",
       " 'et',\n",
       " 'eylül',\n",
       " 'fark',\n",
       " 'fiyat',\n",
       " 'gerile',\n",
       " 'geç',\n",
       " 'gör',\n",
       " 'göre',\n",
       " 'görev',\n",
       " 'göster',\n",
       " 'gün',\n",
       " 'güven',\n",
       " 'güç',\n",
       " 'haber',\n",
       " 'hacim',\n",
       " 'hacker',\n",
       " 'hafta',\n",
       " 'haziran',\n",
       " 'hizmet',\n",
       " 'ilk',\n",
       " 'in',\n",
       " 'itibar',\n",
       " 'içer',\n",
       " 'işlem',\n",
       " 'kadar',\n",
       " 'kal',\n",
       " 'kanıt',\n",
       " 'kaybet',\n",
       " 'kayıt',\n",
       " 'kazan',\n",
       " 'konu',\n",
       " 'korku',\n",
       " 'kullanım',\n",
       " 'kısım',\n",
       " 'mart',\n",
       " 'merkez',\n",
       " 'milyar',\n",
       " 'milyon',\n",
       " 'nisan',\n",
       " 'ocak',\n",
       " 'ol',\n",
       " 'oldukça',\n",
       " 'onay',\n",
       " 'oran',\n",
       " 'ortak',\n",
       " 'para',\n",
       " 'piyasa',\n",
       " 'roger',\n",
       " 'sanal',\n",
       " 'sat',\n",
       " 'seviye',\n",
       " 'son',\n",
       " 'sonra',\n",
       " 'sıra',\n",
       " 'taban',\n",
       " 'temmuz',\n",
       " 'teşvik',\n",
       " 'toparla',\n",
       " 'toplam',\n",
       " 'transfer',\n",
       " 'varlık',\n",
       " 'vergi',\n",
       " 'volatilite',\n",
       " 'yakala',\n",
       " 'yap',\n",
       " 'yatırım',\n",
       " 'yeni',\n",
       " 'yorum',\n",
       " 'yüksek',\n",
       " 'yüksel',\n",
       " 'öncü',\n",
       " 'ülke',\n",
       " 'şirket',\n",
       " 'şubat']"
      ]
     },
     "execution_count": 90,
     "metadata": {},
     "output_type": "execute_result"
    }
   ],
   "source": [
    "ozel_kelimeler"
   ]
  },
  {
   "cell_type": "code",
   "execution_count": 28,
   "id": "d40e6590",
   "metadata": {},
   "outputs": [
    {
     "data": {
      "text/plain": [
       "112"
      ]
     },
     "execution_count": 28,
     "metadata": {},
     "output_type": "execute_result"
    }
   ],
   "source": [
    "len(ozel_kelimeler)"
   ]
  },
  {
   "cell_type": "code",
   "execution_count": 31,
   "id": "255e0385",
   "metadata": {},
   "outputs": [],
   "source": [
    "ozel_kelimeler.remove(\"ın\")\n",
    "ozel_kelimeler.remove(\"unk\")\n",
    "ozel_kelimeler.remove(\"de\")\n",
    "ozel_kelimeler.remove(\"ya\")\n",
    "ozel_kelimeler.remove(\"si\")\n",
    "ozel_kelimeler.remove(\"may\")\n",
    "ozel_kelimeler.remove(\"sini\")\n",
    "ozel_kelimeler.remove(\"makal\")"
   ]
  },
  {
   "cell_type": "code",
   "execution_count": 32,
   "id": "d37328cd",
   "metadata": {},
   "outputs": [
    {
     "data": {
      "text/plain": [
       "104"
      ]
     },
     "execution_count": 32,
     "metadata": {},
     "output_type": "execute_result"
    }
   ],
   "source": [
    "len(ozel_kelimeler)"
   ]
  },
  {
   "cell_type": "code",
   "execution_count": 91,
   "id": "e9947840",
   "metadata": {},
   "outputs": [],
   "source": [
    "file=open(\"ozel_kelimeler.txt\",\"w\",encoding=\"utf-8\")\n",
    "for i in range(len(ozel_kelimeler)): file.write(f\"{ozel_kelimeler[i]}\\n\")"
   ]
  },
  {
   "cell_type": "code",
   "execution_count": 34,
   "id": "ab0107d7",
   "metadata": {},
   "outputs": [],
   "source": [
    "kelimeler=ozel_kelimeler\n",
    "kelime_vek=[]\n",
    "for i in range(len(derlem)):\n",
    "    vek=[]\n",
    "    for j in range(len(kelimeler)):\n",
    "        vek.append(derlem[i].count(kelimeler[j]))\n",
    "    kelime_vek.append(vek)"
   ]
  },
  {
   "cell_type": "code",
   "execution_count": 80,
   "id": "64907deb",
   "metadata": {},
   "outputs": [],
   "source": [
    "new_X=kelime_vek"
   ]
  },
  {
   "cell_type": "code",
   "execution_count": 81,
   "id": "c7602386",
   "metadata": {},
   "outputs": [
    {
     "data": {
      "text/plain": [
       "104"
      ]
     },
     "execution_count": 81,
     "metadata": {},
     "output_type": "execute_result"
    }
   ],
   "source": [
    "len(new_X[0])"
   ]
  },
  {
   "cell_type": "code",
   "execution_count": 82,
   "id": "3d3f0b6d",
   "metadata": {},
   "outputs": [],
   "source": [
    "new_X = np.asarray(X).astype(np.float32)"
   ]
  },
  {
   "cell_type": "code",
   "execution_count": 83,
   "id": "22e53653",
   "metadata": {},
   "outputs": [],
   "source": [
    "from sklearn.model_selection import train_test_split\n",
    "X_train,X_test,y_train,y_test=train_test_split(new_X,y,test_size=0.20,random_state=0)"
   ]
  },
  {
   "cell_type": "code",
   "execution_count": 87,
   "id": "e19a4d72",
   "metadata": {},
   "outputs": [
    {
     "name": "stdout",
     "output_type": "stream",
     "text": [
      "random forest:\n",
      "[[73 44]\n",
      " [56 69]]\n",
      "0.5867768595041323\n"
     ]
    }
   ],
   "source": [
    "#FEATURE SELECTION YAPILMIŞ\n",
    "from sklearn.ensemble import RandomForestClassifier\n",
    "rfc=RandomForestClassifier(n_estimators=10,criterion='entropy')\n",
    "rfc.fit(X_train,y_train)\n",
    "pred_randforest=rfc.predict(X_test)\n",
    "from sklearn.metrics import confusion_matrix\n",
    "print(\"random forest:\")\n",
    "cm=confusion_matrix(y_test,pred_randforest)\n",
    "from sklearn.metrics import confusion_matrix,accuracy_score\n",
    "accuracy=accuracy_score(y_test,pred_randforest)\n",
    "print(cm)\n",
    "print(accuracy)"
   ]
  },
  {
   "cell_type": "code",
   "execution_count": 89,
   "id": "f5a5d61e",
   "metadata": {},
   "outputs": [
    {
     "data": {
      "text/plain": [
       "['104_model.pkl']"
      ]
     },
     "execution_count": 89,
     "metadata": {},
     "output_type": "execute_result"
    }
   ],
   "source": [
    "import joblib\n",
    "joblib.dump(rfc, \"104_model.pkl\")"
   ]
  },
  {
   "cell_type": "code",
   "execution_count": null,
   "id": "df7ff896",
   "metadata": {},
   "outputs": [],
   "source": []
  }
 ],
 "metadata": {
  "kernelspec": {
   "display_name": "Python 3 (ipykernel)",
   "language": "python",
   "name": "python3"
  },
  "language_info": {
   "codemirror_mode": {
    "name": "ipython",
    "version": 3
   },
   "file_extension": ".py",
   "mimetype": "text/x-python",
   "name": "python",
   "nbconvert_exporter": "python",
   "pygments_lexer": "ipython3",
   "version": "3.9.7"
  }
 },
 "nbformat": 4,
 "nbformat_minor": 5
}
